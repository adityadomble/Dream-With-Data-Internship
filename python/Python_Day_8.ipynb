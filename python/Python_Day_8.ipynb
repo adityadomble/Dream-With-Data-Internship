{
  "nbformat": 4,
  "nbformat_minor": 0,
  "metadata": {
    "colab": {
      "provenance": []
    },
    "kernelspec": {
      "name": "python3",
      "display_name": "Python 3"
    },
    "language_info": {
      "name": "python"
    }
  },
  "cells": [
    {
      "cell_type": "code",
      "execution_count": 1,
      "metadata": {
        "colab": {
          "base_uri": "https://localhost:8080/"
        },
        "id": "fxsG_iIa7Y2B",
        "outputId": "d46b781a-4907-4cc5-ef4a-543071572d04"
      },
      "outputs": [
        {
          "output_type": "stream",
          "name": "stdout",
          "text": [
            "4321\n"
          ]
        }
      ],
      "source": [
        "num = 1234\n",
        "rev_num = 0\n",
        "\n",
        "while num >0:\n",
        "  temp = num % 10   #last digit\n",
        "  rev_num = rev_num *10 + temp\n",
        "  num = num // 10     # delete last digit\n",
        "\n",
        "\n",
        "print(rev_num)\n"
      ]
    },
    {
      "cell_type": "markdown",
      "source": [
        "#conditional statements\n",
        "\n",
        "#If- Else\n",
        "\n",
        "#If-Elif\n",
        "\n",
        "#pass, continue, break"
      ],
      "metadata": {
        "id": "kTXo0hIjAnJb"
      }
    },
    {
      "cell_type": "code",
      "source": [
        "num = int(input(\"Enter the number:- \"))\n",
        "\n",
        "if num > 0:\n",
        "  print(\"the number is positive\")\n",
        "else:\n",
        "  print('the number is negative')"
      ],
      "metadata": {
        "colab": {
          "base_uri": "https://localhost:8080/"
        },
        "id": "ZRS2jDwoAY8B",
        "outputId": "015cb11a-dd57-4e4d-d4b6-0f2ea2d70cb1"
      },
      "execution_count": 9,
      "outputs": [
        {
          "output_type": "stream",
          "name": "stdout",
          "text": [
            "Enter the number:- 455566464648987897778\n",
            "the number is positive\n"
          ]
        }
      ]
    },
    {
      "cell_type": "code",
      "source": [
        "#even - odd"
      ],
      "metadata": {
        "id": "SziUpeVU_Xmx"
      },
      "execution_count": 10,
      "outputs": []
    },
    {
      "cell_type": "code",
      "source": [
        "num = 9\n",
        "\n",
        "\n",
        "if num % 2 == 0:\n",
        "  print(\"even number\")\n",
        "\n",
        "else:\n",
        "  print(\"odd number\")"
      ],
      "metadata": {
        "colab": {
          "base_uri": "https://localhost:8080/"
        },
        "id": "-dwBkFCYC5ww",
        "outputId": "08c56623-2020-4b5a-cf74-0a40916d789d"
      },
      "execution_count": 16,
      "outputs": [
        {
          "output_type": "stream",
          "name": "stdout",
          "text": [
            "odd number\n"
          ]
        }
      ]
    },
    {
      "cell_type": "code",
      "source": [
        "num = float(input(\"Enter the number:- \"))"
      ],
      "metadata": {
        "colab": {
          "base_uri": "https://localhost:8080/"
        },
        "id": "hf5iJdxwDIHF",
        "outputId": "d86b7d47-349b-4009-b64c-6acd74933f42"
      },
      "execution_count": 18,
      "outputs": [
        {
          "name": "stdout",
          "output_type": "stream",
          "text": [
            "Enter the number:- 45.6\n"
          ]
        }
      ]
    },
    {
      "cell_type": "code",
      "source": [
        "#voting eligibility\n"
      ],
      "metadata": {
        "id": "DQdm4goBEP52"
      },
      "execution_count": 19,
      "outputs": []
    },
    {
      "cell_type": "code",
      "source": [
        "age = 16\n",
        "\n",
        "if age >= 18:\n",
        "    print(\"You are eligible to vote.\")\n",
        "else:\n",
        "    print(\"You are not eligible to vote.\")\n"
      ],
      "metadata": {
        "colab": {
          "base_uri": "https://localhost:8080/"
        },
        "id": "HjP01b5HE2Do",
        "outputId": "e05f10f9-09bf-4a73-e475-db4525b7e4fb"
      },
      "execution_count": 20,
      "outputs": [
        {
          "output_type": "stream",
          "name": "stdout",
          "text": [
            "You are not eligible to vote.\n"
          ]
        }
      ]
    },
    {
      "cell_type": "code",
      "source": [
        "marks = 49\n",
        "\n",
        "if marks >= 90:\n",
        "  print(\"grade A\")\n",
        "elif marks >= 80:\n",
        "  print('grade B')\n",
        "elif marks >= 70:\n",
        "  print('grade c')\n",
        "elif marks >= 50:\n",
        "  print('grade d')\n",
        "else:\n",
        "  print(\"Fail\")"
      ],
      "metadata": {
        "colab": {
          "base_uri": "https://localhost:8080/"
        },
        "id": "hqwmnirEF67B",
        "outputId": "398c341d-42dc-4853-a37b-98b9c17ff280"
      },
      "execution_count": 25,
      "outputs": [
        {
          "output_type": "stream",
          "name": "stdout",
          "text": [
            "Fail\n"
          ]
        }
      ]
    },
    {
      "cell_type": "code",
      "source": [
        "# positive, negative, zero"
      ],
      "metadata": {
        "id": "TxeXrrdXGvwE"
      },
      "execution_count": 26,
      "outputs": []
    },
    {
      "cell_type": "code",
      "source": [
        "# which number is greater. from 3 numbers\n",
        "# a = 15, b = 10, c = 20"
      ],
      "metadata": {
        "id": "1uKvSJ4sJ4DS"
      },
      "execution_count": null,
      "outputs": []
    }
  ]
}