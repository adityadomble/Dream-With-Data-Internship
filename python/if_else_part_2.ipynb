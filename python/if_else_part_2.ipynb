{
  "nbformat": 4,
  "nbformat_minor": 0,
  "metadata": {
    "colab": {
      "provenance": []
    },
    "kernelspec": {
      "name": "python3",
      "display_name": "Python 3"
    },
    "language_info": {
      "name": "python"
    }
  },
  "cells": [
    {
      "cell_type": "code",
      "execution_count": null,
      "metadata": {
        "id": "JlgPWOmGzDP6"
      },
      "outputs": [],
      "source": []
    },
    {
      "cell_type": "markdown",
      "source": [
        "#PASS CONTINUE AND BREAK AND RETURN"
      ],
      "metadata": {
        "id": "TW5P65Tp0Ib-"
      }
    },
    {
      "cell_type": "code",
      "source": [
        "numbers =[1,1,3,-3,5,-7]\n",
        "\n",
        "for i in numbers:\n",
        " if i<0:\n",
        "    pass # do nothing\n",
        " else :\n",
        "  print('positive number:-',i)\n"
      ],
      "metadata": {
        "colab": {
          "base_uri": "https://localhost:8080/"
        },
        "id": "jDUf46JE0PJX",
        "outputId": "78cc27a8-8067-42fb-c4c5-52c3ecaf7d04"
      },
      "execution_count": 7,
      "outputs": [
        {
          "output_type": "stream",
          "name": "stdout",
          "text": [
            "positive number:- 1\n",
            "positive number:- 1\n",
            "positive number:- 3\n",
            "positive number:- 5\n"
          ]
        }
      ]
    },
    {
      "cell_type": "code",
      "source": [
        "numbers =[1,1,3,-3,-5,-7]\n",
        "\n",
        "for i in numbers:\n",
        " if i<0:\n",
        "    pass # do nothing\n",
        " else :\n",
        "  print('positive number',i)"
      ],
      "metadata": {
        "colab": {
          "base_uri": "https://localhost:8080/"
        },
        "id": "ts3_DOcB2H9p",
        "outputId": "07e755fe-a31e-4ab9-eca7-ec4db86ed869"
      },
      "execution_count": 6,
      "outputs": [
        {
          "output_type": "stream",
          "name": "stdout",
          "text": [
            "positive number 1\n",
            "positive number 1\n",
            "positive number 3\n"
          ]
        }
      ]
    },
    {
      "cell_type": "code",
      "source": [
        "x=42\n",
        "\n",
        "if x> 40:\n",
        "  pass"
      ],
      "metadata": {
        "id": "ZppeYG752ey2"
      },
      "execution_count": 8,
      "outputs": []
    },
    {
      "cell_type": "code",
      "source": [
        "#break\n",
        "number=[1,3,5,8,9,10,16]\n",
        "for i in number:\n",
        "  if i%2==0:\n",
        "    print(\"the first even is found1\",i)"
      ],
      "metadata": {
        "colab": {
          "base_uri": "https://localhost:8080/"
        },
        "id": "DAJQyHbu3tGA",
        "outputId": "96f293ec-ac43-4542-be6e-03e42ef5ab31"
      },
      "execution_count": 10,
      "outputs": [
        {
          "output_type": "stream",
          "name": "stdout",
          "text": [
            "the first even is found1 8\n",
            "the first even is found1 10\n",
            "the first even is found1 16\n"
          ]
        }
      ]
    },
    {
      "cell_type": "code",
      "source": [
        "number=[1,3,5,8,9,10,16]\n",
        "for i in number:\n",
        "  if i%2==0:\n",
        "    print(\"the first even is found1\",i)\n",
        "    break"
      ],
      "metadata": {
        "colab": {
          "base_uri": "https://localhost:8080/"
        },
        "id": "1Js5nl2g5ppJ",
        "outputId": "22ea3882-26ee-4cf1-fe0a-34de5668e77e"
      },
      "execution_count": 12,
      "outputs": [
        {
          "output_type": "stream",
          "name": "stdout",
          "text": [
            "the first even is found1 8\n"
          ]
        }
      ]
    },
    {
      "cell_type": "code",
      "source": [
        "number=[1,3,5,8,9,10,16]\n",
        "for i in number:\n",
        "  if i%2==0:\n",
        "    print(\"the first even is found\",i)\n",
        "    break\n",
        "  else:\n",
        "    print(\"odd number\")\n",
        "\n"
      ],
      "metadata": {
        "colab": {
          "base_uri": "https://localhost:8080/"
        },
        "id": "OCtSe2d658YO",
        "outputId": "4b5ea96c-012b-493c-f41b-a8d13cce6a40"
      },
      "execution_count": 14,
      "outputs": [
        {
          "output_type": "stream",
          "name": "stdout",
          "text": [
            "odd number\n",
            "odd number\n",
            "odd number\n",
            "the first even is found 8\n"
          ]
        }
      ]
    },
    {
      "cell_type": "code",
      "source": [
        "#contune\n",
        "#contune\n",
        "num=[1,-2,3,-4,-5,6,-7,-8,-9]\n",
        "for i in num:\n",
        " if i < 0:\n",
        "\n",
        "    continue   #skip negative numbers\n",
        "    print(i)\n"
      ],
      "metadata": {
        "id": "CoQbnMaK6kqo"
      },
      "execution_count": 22,
      "outputs": []
    },
    {
      "cell_type": "code",
      "source": [
        "\n"
      ],
      "metadata": {
        "id": "s1uQsh067I_s"
      },
      "execution_count": 21,
      "outputs": []
    },
    {
      "cell_type": "markdown",
      "source": [
        "#functions -\n",
        "re-usable block of code"
      ],
      "metadata": {
        "id": "mHnASLSI84A0"
      }
    },
    {
      "cell_type": "code",
      "source": [
        "a=10\n",
        "b=30\n",
        "a+b"
      ],
      "metadata": {
        "colab": {
          "base_uri": "https://localhost:8080/"
        },
        "id": "eMQJB5ui8dT1",
        "outputId": "11b7106b-94de-4f0b-f2f7-70abf550e414"
      },
      "execution_count": 23,
      "outputs": [
        {
          "output_type": "execute_result",
          "data": {
            "text/plain": [
              "40"
            ]
          },
          "metadata": {},
          "execution_count": 23
        }
      ]
    },
    {
      "cell_type": "code",
      "source": [
        "\n",
        "  if i%2==0:\n",
        "    print(\"the first even is found1\",i)return a+b"
      ],
      "metadata": {
        "id": "ZgXnHVjW9wHN"
      },
      "execution_count": 25,
      "outputs": []
    },
    {
      "cell_type": "code",
      "source": [
        "aditya_d(800,92)"
      ],
      "metadata": {
        "colab": {
          "base_uri": "https://localhost:8080/"
        },
        "id": "ZDEJCyw1-JeI",
        "outputId": "7907b059-83ba-4ccf-e7ec-5eaa832e1bfb"
      },
      "execution_count": 26,
      "outputs": [
        {
          "output_type": "execute_result",
          "data": {
            "text/plain": [
              "892"
            ]
          },
          "metadata": {},
          "execution_count": 26
        }
      ]
    },
    {
      "cell_type": "code",
      "source": [
        "def adi(a,b):\n",
        "  return a+b"
      ],
      "metadata": {
        "id": "XlOCKS70-dLj"
      },
      "execution_count": 27,
      "outputs": []
    },
    {
      "cell_type": "code",
      "source": [
        "adi(50,56)"
      ],
      "metadata": {
        "colab": {
          "base_uri": "https://localhost:8080/"
        },
        "id": "OtjlPZn8-1tg",
        "outputId": "4c8cddc4-7a06-4238-cd80-2a68b25acc2d"
      },
      "execution_count": 28,
      "outputs": [
        {
          "output_type": "execute_result",
          "data": {
            "text/plain": [
              "106"
            ]
          },
          "metadata": {},
          "execution_count": 28
        }
      ]
    },
    {
      "cell_type": "code",
      "source": [
        "def greeting(name=\"Dear\"):\n",
        "  print(\"hello\",name)\n"
      ],
      "metadata": {
        "id": "JVV4EMZr-5Sf"
      },
      "execution_count": 29,
      "outputs": []
    },
    {
      "cell_type": "code",
      "source": [
        "greeting()"
      ],
      "metadata": {
        "colab": {
          "base_uri": "https://localhost:8080/"
        },
        "id": "DEufeBHX_VQA",
        "outputId": "f7d38b96-c202-48d1-c88d-4f45b9b34363"
      },
      "execution_count": 30,
      "outputs": [
        {
          "output_type": "stream",
          "name": "stdout",
          "text": [
            "hello Dear\n"
          ]
        }
      ]
    },
    {
      "cell_type": "code",
      "source": [
        "greeting(\"shreya\")"
      ],
      "metadata": {
        "colab": {
          "base_uri": "https://localhost:8080/"
        },
        "id": "dm6gJdYZ_gYv",
        "outputId": "58ae71bd-ae9f-4575-a2c0-bc05e74fb43e"
      },
      "execution_count": 31,
      "outputs": [
        {
          "output_type": "stream",
          "name": "stdout",
          "text": [
            "hello shreya\n"
          ]
        }
      ]
    },
    {
      "cell_type": "code",
      "source": [
        "def greeting(name=\"Dear\"):\n",
        "  print(\"hello\",name)\n"
      ],
      "metadata": {
        "id": "zESotcKo_nNw"
      },
      "execution_count": null,
      "outputs": []
    },
    {
      "cell_type": "code",
      "source": [
        "for i in [\"aditya\",\"shreya\",\"tushar\"]:\n",
        "  greeting(i)"
      ],
      "metadata": {
        "colab": {
          "base_uri": "https://localhost:8080/"
        },
        "id": "BfC7-SfGAHlo",
        "outputId": "3748dce3-afca-4ac8-9a99-4e1cd4be05de"
      },
      "execution_count": 36,
      "outputs": [
        {
          "output_type": "stream",
          "name": "stdout",
          "text": [
            "hello aditya\n",
            "hello shreya\n",
            "hello tushar\n"
          ]
        }
      ]
    },
    {
      "cell_type": "code",
      "source": [
        "for i in ('sam','dauum','dull','mcaunglly'):\n",
        "  greeting(i)"
      ],
      "metadata": {
        "colab": {
          "base_uri": "https://localhost:8080/"
        },
        "id": "q5ceQfjDAYcz",
        "outputId": "c35aa20f-67b1-4885-b91e-d99e522fc79c"
      },
      "execution_count": 38,
      "outputs": [
        {
          "output_type": "stream",
          "name": "stdout",
          "text": [
            "hello sam\n",
            "hello dauum\n",
            "hello dull\n",
            "hello mcaunglly\n"
          ]
        }
      ]
    },
    {
      "cell_type": "code",
      "source": [
        "for i in ['lowey','faf du ','gross','hotemak','smith']:\n",
        "  greeting(i)\n",
        "\n"
      ],
      "metadata": {
        "colab": {
          "base_uri": "https://localhost:8080/"
        },
        "id": "HbeJUNExBCNd",
        "outputId": "b3ca1453-1db6-453e-ed61-4bb4c70f3114"
      },
      "execution_count": 42,
      "outputs": [
        {
          "output_type": "stream",
          "name": "stdout",
          "text": [
            "hello lowey\n",
            "hello faf du \n",
            "hello gross\n",
            "hello hotemak\n",
            "hello smith\n"
          ]
        }
      ]
    },
    {
      "cell_type": "code",
      "source": [],
      "metadata": {
        "id": "bU-uDTVcBbRQ"
      },
      "execution_count": null,
      "outputs": []
    }
  ]
}