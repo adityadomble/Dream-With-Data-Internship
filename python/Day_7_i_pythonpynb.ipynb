{
  "nbformat": 4,
  "nbformat_minor": 0,
  "metadata": {
    "colab": {
      "provenance": []
    },
    "kernelspec": {
      "name": "python3",
      "display_name": "Python 3"
    },
    "language_info": {
      "name": "python"
    }
  },
  "cells": [
    {
      "cell_type": "code",
      "execution_count": null,
      "metadata": {
        "id": "W6noGMpiyflM"
      },
      "outputs": [],
      "source": []
    },
    {
      "cell_type": "markdown",
      "source": [
        "#loops -\n",
        "\n",
        "#for loops  - used for intering over sequence\n",
        "\n",
        "#while loos - runs as long as condition is True"
      ],
      "metadata": {
        "id": "rKSkPff_zIcu"
      }
    },
    {
      "cell_type": "code",
      "source": [
        "for i in [2,5,6,9,7]\n",
        "          print(i)"
      ],
      "metadata": {
        "colab": {
          "base_uri": "https://localhost:8080/",
          "height": 106
        },
        "id": "omq94iq6zYmj",
        "outputId": "a798affc-d0b0-420a-8b7d-500a7d437d1a"
      },
      "execution_count": 2,
      "outputs": [
        {
          "output_type": "error",
          "ename": "SyntaxError",
          "evalue": "expected ':' (<ipython-input-2-360ed9319b27>, line 1)",
          "traceback": [
            "\u001b[0;36m  File \u001b[0;32m\"<ipython-input-2-360ed9319b27>\"\u001b[0;36m, line \u001b[0;32m1\u001b[0m\n\u001b[0;31m    for i in [2,5,6,9,7]\u001b[0m\n\u001b[0m                        ^\u001b[0m\n\u001b[0;31mSyntaxError\u001b[0m\u001b[0;31m:\u001b[0m expected ':'\n"
          ]
        }
      ]
    },
    {
      "cell_type": "code",
      "source": [
        "for i in range(5):\n",
        "print(i)"
      ],
      "metadata": {
        "colab": {
          "base_uri": "https://localhost:8080/",
          "height": 106
        },
        "id": "OAevHX_-0Sep",
        "outputId": "a9917ed2-207f-4ec1-dc46-924b88bf3999"
      },
      "execution_count": 6,
      "outputs": [
        {
          "output_type": "error",
          "ename": "IndentationError",
          "evalue": "expected an indented block after 'for' statement on line 1 (<ipython-input-6-ff840fecd491>, line 2)",
          "traceback": [
            "\u001b[0;36m  File \u001b[0;32m\"<ipython-input-6-ff840fecd491>\"\u001b[0;36m, line \u001b[0;32m2\u001b[0m\n\u001b[0;31m    print(i)\u001b[0m\n\u001b[0m    ^\u001b[0m\n\u001b[0;31mIndentationError\u001b[0m\u001b[0;31m:\u001b[0m expected an indented block after 'for' statement on line 1\n"
          ]
        }
      ]
    },
    {
      "cell_type": "code",
      "source": [
        "fruits =[\"apple\",\"banana\",\"cherry\"]\n",
        "for i in fruits:\n",
        "  print(i)"
      ],
      "metadata": {
        "colab": {
          "base_uri": "https://localhost:8080/"
        },
        "id": "0BcgYk160IJL",
        "outputId": "202a7eed-9227-4362-cd6c-00228de2e600"
      },
      "execution_count": 3,
      "outputs": [
        {
          "output_type": "stream",
          "name": "stdout",
          "text": [
            "apple\n",
            "banana\n",
            "cherry\n"
          ]
        }
      ]
    },
    {
      "cell_type": "code",
      "source": [
        "for a in \"python\":\n",
        "  print(a)"
      ],
      "metadata": {
        "colab": {
          "base_uri": "https://localhost:8080/"
        },
        "id": "QVqHlNid0seC",
        "outputId": "08b9088e-1726-40c5-e077-99126a2aac77"
      },
      "execution_count": 7,
      "outputs": [
        {
          "output_type": "stream",
          "name": "stdout",
          "text": [
            "p\n",
            "y\n",
            "t\n",
            "h\n",
            "o\n",
            "n\n"
          ]
        }
      ]
    },
    {
      "cell_type": "code",
      "source": [
        "for a in(20,78,1,'True',\"aditya\"):\n",
        "  print(a)"
      ],
      "metadata": {
        "colab": {
          "base_uri": "https://localhost:8080/"
        },
        "id": "G7xWybgU1Me9",
        "outputId": "a6fe6bb7-4bb5-40f9-d7e4-3c35a47395e9"
      },
      "execution_count": 8,
      "outputs": [
        {
          "output_type": "stream",
          "name": "stdout",
          "text": [
            "20\n",
            "78\n",
            "1\n",
            "True\n",
            "aditya\n"
          ]
        }
      ]
    },
    {
      "cell_type": "code",
      "source": [
        "for a in (56,45,'asm'):\n",
        "  print(a)"
      ],
      "metadata": {
        "colab": {
          "base_uri": "https://localhost:8080/",
          "height": 106
        },
        "id": "9iqDkJyo1YyQ",
        "outputId": "7e067362-3f6b-4222-dcf5-562335f1536d"
      },
      "execution_count": 10,
      "outputs": [
        {
          "output_type": "error",
          "ename": "SyntaxError",
          "evalue": "cannot assign to function call (<ipython-input-10-7bb2bd8e4bbb>, line 1)",
          "traceback": [
            "\u001b[0;36m  File \u001b[0;32m\"<ipython-input-10-7bb2bd8e4bbb>\"\u001b[0;36m, line \u001b[0;32m1\u001b[0m\n\u001b[0;31m    for a (56,45,'asm'):\u001b[0m\n\u001b[0m        ^\u001b[0m\n\u001b[0;31mSyntaxError\u001b[0m\u001b[0;31m:\u001b[0m cannot assign to function call\n"
          ]
        }
      ]
    },
    {
      "cell_type": "code",
      "source": [
        "student = {\"nam\":\"aditya\",\"age\":52,\"grade\":\"A\"}\n"
      ],
      "metadata": {
        "id": "n3c-ffVO1k_v"
      },
      "execution_count": 11,
      "outputs": []
    },
    {
      "cell_type": "code",
      "source": [
        "student.values()"
      ],
      "metadata": {
        "colab": {
          "base_uri": "https://localhost:8080/"
        },
        "id": "sLLSIp572LwO",
        "outputId": "353f8d2b-ee60-4bcc-ceea-abd052f45024"
      },
      "execution_count": 13,
      "outputs": [
        {
          "output_type": "execute_result",
          "data": {
            "text/plain": [
              "dict_values(['aditya', 52, 'A'])"
            ]
          },
          "metadata": {},
          "execution_count": 13
        }
      ]
    },
    {
      "cell_type": "code",
      "source": [
        "student.keys()"
      ],
      "metadata": {
        "colab": {
          "base_uri": "https://localhost:8080/"
        },
        "id": "BKUjSiM12O0C",
        "outputId": "5cd7c76f-252f-4f6f-d175-de99c1117c64"
      },
      "execution_count": 14,
      "outputs": [
        {
          "output_type": "execute_result",
          "data": {
            "text/plain": [
              "dict_keys(['nam', 'age', 'grade'])"
            ]
          },
          "metadata": {},
          "execution_count": 14
        }
      ]
    },
    {
      "cell_type": "code",
      "source": [
        "student.items()"
      ],
      "metadata": {
        "colab": {
          "base_uri": "https://localhost:8080/"
        },
        "id": "A3v6rF3H2TLY",
        "outputId": "97e35947-e66b-43c3-a2e6-e48a35d1c8a7"
      },
      "execution_count": 15,
      "outputs": [
        {
          "output_type": "execute_result",
          "data": {
            "text/plain": [
              "dict_items([('nam', 'aditya'), ('age', 52), ('grade', 'A')])"
            ]
          },
          "metadata": {},
          "execution_count": 15
        }
      ]
    },
    {
      "cell_type": "code",
      "source": [
        "for i,j in student.items():\n",
        "  print(i,\"=\",j)"
      ],
      "metadata": {
        "colab": {
          "base_uri": "https://localhost:8080/"
        },
        "id": "fpnDExlM2Wgw",
        "outputId": "e477ab65-4aa2-4fa0-a96c-908b1ae7946b"
      },
      "execution_count": 19,
      "outputs": [
        {
          "output_type": "stream",
          "name": "stdout",
          "text": [
            "nam = aditya\n",
            "age = 52\n",
            "grade = A\n"
          ]
        }
      ]
    },
    {
      "cell_type": "code",
      "source": [
        "for i,j in student.items():\n",
        "  print(i,\"---\",j)"
      ],
      "metadata": {
        "colab": {
          "base_uri": "https://localhost:8080/"
        },
        "id": "6-FYkHvQ2wZa",
        "outputId": "a680ba1a-cac7-47ed-aaab-da0ed2158f2e"
      },
      "execution_count": 20,
      "outputs": [
        {
          "output_type": "stream",
          "name": "stdout",
          "text": [
            "nam --- aditya\n",
            "age --- 52\n",
            "grade --- A\n"
          ]
        }
      ]
    },
    {
      "cell_type": "code",
      "source": [
        "for i,j in student.items():\n",
        "  print(i,\"++\",j)"
      ],
      "metadata": {
        "colab": {
          "base_uri": "https://localhost:8080/"
        },
        "id": "K-fuN_-U3pSr",
        "outputId": "345da5a4-badb-4ecd-f03d-1ae90fe8e831"
      },
      "execution_count": 21,
      "outputs": [
        {
          "output_type": "stream",
          "name": "stdout",
          "text": [
            "nam ++ aditya\n",
            "age ++ 52\n",
            "grade ++ A\n"
          ]
        }
      ]
    },
    {
      "cell_type": "code",
      "source": [
        "#nested for loop"
      ],
      "metadata": {
        "id": "OqcrK8it3wfy"
      },
      "execution_count": 22,
      "outputs": []
    },
    {
      "cell_type": "code",
      "source": [
        "for i in range(3):\n",
        "  for j in range(3):\n",
        "    print(f\"({i},{j}))\")"
      ],
      "metadata": {
        "colab": {
          "base_uri": "https://localhost:8080/"
        },
        "id": "PS23Xzh44Cjk",
        "outputId": "b79468e0-3855-4fa5-ed46-e2ab09423b2d"
      },
      "execution_count": 23,
      "outputs": [
        {
          "output_type": "stream",
          "name": "stdout",
          "text": [
            "(0,0))\n",
            "(0,1))\n",
            "(0,2))\n",
            "(1,0))\n",
            "(1,1))\n",
            "(1,2))\n",
            "(2,0))\n",
            "(2,1))\n",
            "(2,2))\n"
          ]
        }
      ]
    },
    {
      "cell_type": "code",
      "source": [
        "for j in range(3):\n",
        "  for i in range(3):\n",
        "    print(f\"({j},{i}))\")"
      ],
      "metadata": {
        "colab": {
          "base_uri": "https://localhost:8080/"
        },
        "id": "CdGhVjkG4z78",
        "outputId": "e82e7ce5-a351-4909-ff25-cf563c8ac50b"
      },
      "execution_count": 24,
      "outputs": [
        {
          "output_type": "stream",
          "name": "stdout",
          "text": [
            "(0,0))\n",
            "(0,1))\n",
            "(0,2))\n",
            "(1,0))\n",
            "(1,1))\n",
            "(1,2))\n",
            "(2,0))\n",
            "(2,1))\n",
            "(2,2))\n"
          ]
        }
      ]
    },
    {
      "cell_type": "code",
      "source": [
        "for j in range(5):\n",
        "  for i in range(5):\n",
        "    print(f\"({j},{i}))\")"
      ],
      "metadata": {
        "colab": {
          "base_uri": "https://localhost:8080/"
        },
        "id": "N_9WeX6_5FbT",
        "outputId": "3222cbc4-15d9-440e-878a-cea067915b5f"
      },
      "execution_count": 26,
      "outputs": [
        {
          "output_type": "stream",
          "name": "stdout",
          "text": [
            "(0,0))\n",
            "(0,1))\n",
            "(0,2))\n",
            "(0,3))\n",
            "(0,4))\n",
            "(1,0))\n",
            "(1,1))\n",
            "(1,2))\n",
            "(1,3))\n",
            "(1,4))\n",
            "(2,0))\n",
            "(2,1))\n",
            "(2,2))\n",
            "(2,3))\n",
            "(2,4))\n",
            "(3,0))\n",
            "(3,1))\n",
            "(3,2))\n",
            "(3,3))\n",
            "(3,4))\n",
            "(4,0))\n",
            "(4,1))\n",
            "(4,2))\n",
            "(4,3))\n",
            "(4,4))\n"
          ]
        }
      ]
    },
    {
      "cell_type": "code",
      "source": [
        "for j in range(3):\n",
        "  for i in range(3):\n",
        "    print(f\"(j={j},i={i}))\")"
      ],
      "metadata": {
        "colab": {
          "base_uri": "https://localhost:8080/"
        },
        "id": "gImC5STG5QKo",
        "outputId": "cd2edfd4-a793-4b95-b3f0-26e313f30991"
      },
      "execution_count": 27,
      "outputs": [
        {
          "output_type": "stream",
          "name": "stdout",
          "text": [
            "(j=0,i=0))\n",
            "(j=0,i=1))\n",
            "(j=0,i=2))\n",
            "(j=1,i=0))\n",
            "(j=1,i=1))\n",
            "(j=1,i=2))\n",
            "(j=2,i=0))\n",
            "(j=2,i=1))\n",
            "(j=2,i=2))\n"
          ]
        }
      ]
    },
    {
      "cell_type": "code",
      "source": [],
      "metadata": {
        "id": "niqUHrTA5t_s"
      },
      "execution_count": null,
      "outputs": []
    },
    {
      "cell_type": "markdown",
      "source": [
        "#while"
      ],
      "metadata": {
        "id": "bTmfw2o_51JO"
      }
    },
    {
      "cell_type": "code",
      "source": [
        "i=0\n",
        "while i<5:\n",
        "  print(i)\n",
        "  i=i+1"
      ],
      "metadata": {
        "colab": {
          "base_uri": "https://localhost:8080/"
        },
        "id": "aCCbgwmM52OS",
        "outputId": "127b8cba-a946-43af-ebcf-7c2d06514a7e"
      },
      "execution_count": 28,
      "outputs": [
        {
          "output_type": "stream",
          "name": "stdout",
          "text": [
            "0\n",
            "1\n",
            "2\n",
            "3\n",
            "4\n"
          ]
        }
      ]
    },
    {
      "cell_type": "code",
      "source": [
        "i=0\n",
        "while i<5:\n",
        "  print('hello world')\n",
        "  i=i+1"
      ],
      "metadata": {
        "colab": {
          "base_uri": "https://localhost:8080/"
        },
        "id": "Wigutl2m6rhS",
        "outputId": "6547f07a-9619-4a6d-d767-a83d9250f86f"
      },
      "execution_count": 29,
      "outputs": [
        {
          "output_type": "stream",
          "name": "stdout",
          "text": [
            "hello world\n",
            "hello world\n",
            "hello world\n",
            "hello world\n",
            "hello world\n"
          ]
        }
      ]
    },
    {
      "cell_type": "code",
      "source": [
        "#fibonacci sequence"
      ],
      "metadata": {
        "id": "RSbjcwbx62qF"
      },
      "execution_count": 30,
      "outputs": []
    },
    {
      "cell_type": "code",
      "source": [
        "a=0\n",
        "b=1\n",
        "while b<60:\n",
        "  print(b, end =\"\")\n",
        "  a=b\n",
        "  b= a + b"
      ],
      "metadata": {
        "colab": {
          "base_uri": "https://localhost:8080/"
        },
        "id": "dzp1r7zp8qO1",
        "outputId": "ec530cb1-00f6-447b-e15f-1496bd17073c"
      },
      "execution_count": 33,
      "outputs": [
        {
          "output_type": "stream",
          "name": "stdout",
          "text": [
            "12481632"
          ]
        }
      ]
    },
    {
      "cell_type": "code",
      "source": [
        "a=0\n",
        "b=1\n",
        "while b <100:\n",
        "  print(b, end =\"\")\n",
        "  temp=b\n",
        "  b =a+b\n",
        "  a = temp"
      ],
      "metadata": {
        "colab": {
          "base_uri": "https://localhost:8080/"
        },
        "id": "z1Z2T1JJ9QyT",
        "outputId": "5355cc1c-e017-4aa0-893f-fc6132dfd2a7"
      },
      "execution_count": 37,
      "outputs": [
        {
          "output_type": "stream",
          "name": "stdout",
          "text": [
            "1123581321345589"
          ]
        }
      ]
    },
    {
      "cell_type": "code",
      "source": [
        "#factorial"
      ],
      "metadata": {
        "id": "x7z3Gsxu_TIh"
      },
      "execution_count": 38,
      "outputs": []
    },
    {
      "cell_type": "code",
      "source": [
        "num = 5\n",
        "fact = 1\n",
        "while num > 1:\n",
        "  temp = num #current value in temp\n",
        "  fact = fact*temp\n",
        "  num=temp-1\n",
        "  print(\"factorial of num is:-\",fact)"
      ],
      "metadata": {
        "colab": {
          "base_uri": "https://localhost:8080/"
        },
        "id": "vs6XQRKqARvT",
        "outputId": "d73933ec-d43b-41a7-dd62-efd2e71c6676"
      },
      "execution_count": 40,
      "outputs": [
        {
          "output_type": "stream",
          "name": "stdout",
          "text": [
            "factorial of num is:- 5\n",
            "factorial of num is:- 20\n",
            "factorial of num is:- 60\n",
            "factorial of num is:- 120\n"
          ]
        }
      ]
    },
    {
      "cell_type": "code",
      "source": [
        "num=1234\n"
      ],
      "metadata": {
        "id": "8u6ipUOWCofj"
      },
      "execution_count": 54,
      "outputs": []
    },
    {
      "cell_type": "code",
      "source": [
        "num % 10"
      ],
      "metadata": {
        "colab": {
          "base_uri": "https://localhost:8080/"
        },
        "id": "ISyJlTtTC99N",
        "outputId": "8f14f369-0ce6-464f-a682-dcbda6b49887"
      },
      "execution_count": 55,
      "outputs": [
        {
          "output_type": "execute_result",
          "data": {
            "text/plain": [
              "4"
            ]
          },
          "metadata": {},
          "execution_count": 55
        }
      ]
    },
    {
      "cell_type": "code",
      "source": [
        "a=12345655595"
      ],
      "metadata": {
        "id": "SDBXZi2xC_7N"
      },
      "execution_count": 56,
      "outputs": []
    },
    {
      "cell_type": "code",
      "source": [
        "num%784446"
      ],
      "metadata": {
        "colab": {
          "base_uri": "https://localhost:8080/"
        },
        "id": "eMjDkRhtFZGp",
        "outputId": "81cf5643-b70b-44fa-e3fd-a8041e8f4fa7"
      },
      "execution_count": 58,
      "outputs": [
        {
          "output_type": "execute_result",
          "data": {
            "text/plain": [
              "1234"
            ]
          },
          "metadata": {},
          "execution_count": 58
        }
      ]
    },
    {
      "cell_type": "code",
      "source": [
        "145954225896314789632147"
      ],
      "metadata": {
        "id": "8MtRyo23Fa9Z"
      },
      "execution_count": null,
      "outputs": []
    }
  ]
}