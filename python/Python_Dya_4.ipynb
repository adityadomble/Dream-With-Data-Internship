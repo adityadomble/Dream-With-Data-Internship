{
  "nbformat": 4,
  "nbformat_minor": 0,
  "metadata": {
    "colab": {
      "provenance": []
    },
    "kernelspec": {
      "name": "python3",
      "display_name": "Python 3"
    },
    "language_info": {
      "name": "python"
    }
  },
  "cells": [
    {
      "cell_type": "markdown",
      "source": [
        "#List"
      ],
      "metadata": {
        "id": "KZNe2e2gK9CQ"
      }
    },
    {
      "cell_type": "markdown",
      "source": [
        "List is a collection of elements.\n",
        "\n",
        "\n",
        "list maintains the order of elements\n",
        "\n",
        "\n",
        "can be changed(modify, add, remove) - Mutable\n",
        "\n",
        "\n",
        "can contain duplicate value\n",
        "\n",
        "\n",
        "support different data types- int, float, string, bool, list, tuple\n",
        "\n",
        "\n",
        "element can be accessed using an index"
      ],
      "metadata": {
        "id": "OA8uibqKLFK5"
      }
    },
    {
      "cell_type": "code",
      "execution_count": 2,
      "metadata": {
        "id": "VV3jGoczKuMa"
      },
      "outputs": [],
      "source": [
        "#empty list\n",
        "a1 = []"
      ]
    },
    {
      "cell_type": "code",
      "source": [
        "#list with diff data type\n",
        "\n",
        "l1= [10,\"hello\", 3.4, True, [1,2,3], (7,8,9)]"
      ],
      "metadata": {
        "id": "VVsCoRoYNL3R"
      },
      "execution_count": 4,
      "outputs": []
    },
    {
      "cell_type": "code",
      "source": [
        "type(l1)"
      ],
      "metadata": {
        "colab": {
          "base_uri": "https://localhost:8080/"
        },
        "id": "q2blIdITNqDb",
        "outputId": "78f7fae8-4b19-4152-b286-764b6360baf4"
      },
      "execution_count": 5,
      "outputs": [
        {
          "output_type": "execute_result",
          "data": {
            "text/plain": [
              "list"
            ]
          },
          "metadata": {},
          "execution_count": 5
        }
      ]
    },
    {
      "cell_type": "code",
      "source": [
        "#indexing"
      ],
      "metadata": {
        "id": "t6mxuBmeOFzV"
      },
      "execution_count": 7,
      "outputs": []
    },
    {
      "cell_type": "code",
      "source": [
        "l2 = [10,20,30,40,50]"
      ],
      "metadata": {
        "id": "WrF--PSjN6vU"
      },
      "execution_count": 8,
      "outputs": []
    },
    {
      "cell_type": "code",
      "source": [
        "l2[0]    #0 is index number"
      ],
      "metadata": {
        "colab": {
          "base_uri": "https://localhost:8080/"
        },
        "id": "khsGZPmdOHgY",
        "outputId": "8185b05a-4168-4848-b487-c0cae7d65fb9"
      },
      "execution_count": 10,
      "outputs": [
        {
          "output_type": "execute_result",
          "data": {
            "text/plain": [
              "10"
            ]
          },
          "metadata": {},
          "execution_count": 10
        }
      ]
    },
    {
      "cell_type": "code",
      "source": [
        "l2[1]"
      ],
      "metadata": {
        "colab": {
          "base_uri": "https://localhost:8080/"
        },
        "id": "l6E5w0p1OaDq",
        "outputId": "4deb46d5-7d61-457b-c3fa-6b54ec82a1c8"
      },
      "execution_count": 11,
      "outputs": [
        {
          "output_type": "execute_result",
          "data": {
            "text/plain": [
              "20"
            ]
          },
          "metadata": {},
          "execution_count": 11
        }
      ]
    },
    {
      "cell_type": "code",
      "source": [
        "#veriable name never start with numbers\n",
        "#veriable name always include only character & underscore\n",
        "#ex\n",
        "my_list = [45,87,54,21,65,8,89,8]"
      ],
      "metadata": {
        "id": "WBWi9qUHOgiH"
      },
      "execution_count": 12,
      "outputs": []
    },
    {
      "cell_type": "code",
      "source": [
        "my_list[0]"
      ],
      "metadata": {
        "colab": {
          "base_uri": "https://localhost:8080/"
        },
        "id": "i_TlIDgYPK3Z",
        "outputId": "79ee73ff-4b82-4feb-ce62-a34ccc0af256"
      },
      "execution_count": 13,
      "outputs": [
        {
          "output_type": "execute_result",
          "data": {
            "text/plain": [
              "45"
            ]
          },
          "metadata": {},
          "execution_count": 13
        }
      ]
    },
    {
      "cell_type": "code",
      "source": [
        "my_list[5]"
      ],
      "metadata": {
        "colab": {
          "base_uri": "https://localhost:8080/"
        },
        "id": "_pMSsnaqPfur",
        "outputId": "28ba9d79-f478-4825-ce4d-9f1b63d13d2c"
      },
      "execution_count": 14,
      "outputs": [
        {
          "output_type": "execute_result",
          "data": {
            "text/plain": [
              "8"
            ]
          },
          "metadata": {},
          "execution_count": 14
        }
      ]
    },
    {
      "cell_type": "code",
      "source": [
        "my_list[-1]"
      ],
      "metadata": {
        "colab": {
          "base_uri": "https://localhost:8080/"
        },
        "id": "f5kaBh6WPpay",
        "outputId": "bb5913f9-32b2-453f-c3c4-bd819e373c33"
      },
      "execution_count": 15,
      "outputs": [
        {
          "output_type": "execute_result",
          "data": {
            "text/plain": [
              "8"
            ]
          },
          "metadata": {},
          "execution_count": 15
        }
      ]
    },
    {
      "cell_type": "code",
      "source": [
        "my_list[-2]"
      ],
      "metadata": {
        "colab": {
          "base_uri": "https://localhost:8080/"
        },
        "id": "V8ohskiIP3Md",
        "outputId": "ac2db986-ed5c-40dc-a646-01fbdcc0a76b"
      },
      "execution_count": 16,
      "outputs": [
        {
          "output_type": "execute_result",
          "data": {
            "text/plain": [
              "89"
            ]
          },
          "metadata": {},
          "execution_count": 16
        }
      ]
    },
    {
      "cell_type": "code",
      "source": [
        "#slicing"
      ],
      "metadata": {
        "id": "QRN01TZ8P572"
      },
      "execution_count": 17,
      "outputs": []
    },
    {
      "cell_type": "code",
      "source": [
        "#syntax - list[start:stop:step]\n"
      ],
      "metadata": {
        "id": "FTSwYajGQHOC"
      },
      "execution_count": 18,
      "outputs": []
    },
    {
      "cell_type": "code",
      "source": [
        "my_list[0:4]"
      ],
      "metadata": {
        "colab": {
          "base_uri": "https://localhost:8080/"
        },
        "id": "AM2omAECQW6y",
        "outputId": "5577fb54-bf02-40a9-8b92-506f9190d26f"
      },
      "execution_count": 19,
      "outputs": [
        {
          "output_type": "execute_result",
          "data": {
            "text/plain": [
              "[45, 87, 54, 21]"
            ]
          },
          "metadata": {},
          "execution_count": 19
        }
      ]
    },
    {
      "cell_type": "code",
      "source": [
        "my_list[0:5:2]"
      ],
      "metadata": {
        "colab": {
          "base_uri": "https://localhost:8080/"
        },
        "id": "7g8LBmscQa03",
        "outputId": "8d2a027c-f822-44f4-ad37-b297227f70e0"
      },
      "execution_count": 20,
      "outputs": [
        {
          "output_type": "execute_result",
          "data": {
            "text/plain": [
              "[45, 54, 65]"
            ]
          },
          "metadata": {},
          "execution_count": 20
        }
      ]
    },
    {
      "cell_type": "code",
      "source": [
        "my_list[0:6:3]"
      ],
      "metadata": {
        "colab": {
          "base_uri": "https://localhost:8080/"
        },
        "id": "0JGYc0UrQhlX",
        "outputId": "6f494de1-d3a6-4ec5-e901-53a7ad054e6e"
      },
      "execution_count": 21,
      "outputs": [
        {
          "output_type": "execute_result",
          "data": {
            "text/plain": [
              "[45, 21]"
            ]
          },
          "metadata": {},
          "execution_count": 21
        }
      ]
    },
    {
      "cell_type": "code",
      "source": [
        "my_list[:4]"
      ],
      "metadata": {
        "colab": {
          "base_uri": "https://localhost:8080/"
        },
        "id": "PSl7NgFRRCNo",
        "outputId": "26ff4f4c-21b9-4863-8e6d-295093471d5c"
      },
      "execution_count": 22,
      "outputs": [
        {
          "output_type": "execute_result",
          "data": {
            "text/plain": [
              "[45, 87, 54, 21]"
            ]
          },
          "metadata": {},
          "execution_count": 22
        }
      ]
    },
    {
      "cell_type": "code",
      "source": [
        "my_list[2:]"
      ],
      "metadata": {
        "colab": {
          "base_uri": "https://localhost:8080/"
        },
        "id": "YtRzo99HRLBW",
        "outputId": "48d3c432-cf93-4bd7-f353-29bf2ba89a1d"
      },
      "execution_count": 23,
      "outputs": [
        {
          "output_type": "execute_result",
          "data": {
            "text/plain": [
              "[54, 21, 65, 8, 89, 8]"
            ]
          },
          "metadata": {},
          "execution_count": 23
        }
      ]
    },
    {
      "cell_type": "code",
      "source": [
        "#changing the elements"
      ],
      "metadata": {
        "id": "gxUv6CFoRQgr"
      },
      "execution_count": 24,
      "outputs": []
    },
    {
      "cell_type": "code",
      "source": [
        "list = [10,20,30,40]"
      ],
      "metadata": {
        "id": "r-V9TigBRhK7"
      },
      "execution_count": 25,
      "outputs": []
    },
    {
      "cell_type": "code",
      "source": [
        "list[1]=99"
      ],
      "metadata": {
        "id": "__Sc3JGVRkfT"
      },
      "execution_count": 26,
      "outputs": []
    },
    {
      "cell_type": "code",
      "source": [
        "list"
      ],
      "metadata": {
        "colab": {
          "base_uri": "https://localhost:8080/"
        },
        "id": "SbKvUT-ORqiH",
        "outputId": "aa31d7a2-f203-4d8d-e3c2-2eddaa8ff3bc"
      },
      "execution_count": 27,
      "outputs": [
        {
          "output_type": "execute_result",
          "data": {
            "text/plain": [
              "[10, 99, 30, 40]"
            ]
          },
          "metadata": {},
          "execution_count": 27
        }
      ]
    },
    {
      "cell_type": "markdown",
      "source": [
        "#list - methods()"
      ],
      "metadata": {
        "id": "TYOWIBaKR3vu"
      }
    },
    {
      "cell_type": "code",
      "source": [
        "list= [1,2,3,4,5]"
      ],
      "metadata": {
        "id": "HBODtSj0RrWw"
      },
      "execution_count": 28,
      "outputs": []
    },
    {
      "cell_type": "code",
      "source": [
        "#append() - add a single element at the end"
      ],
      "metadata": {
        "id": "FGr8KuQISLiX"
      },
      "execution_count": 29,
      "outputs": []
    },
    {
      "cell_type": "code",
      "source": [
        "list.append(6)"
      ],
      "metadata": {
        "id": "kI411jAzS2lV"
      },
      "execution_count": 30,
      "outputs": []
    },
    {
      "cell_type": "code",
      "source": [
        "list"
      ],
      "metadata": {
        "colab": {
          "base_uri": "https://localhost:8080/"
        },
        "id": "qn7La1FKS6is",
        "outputId": "96f73466-a10c-45d8-ab4b-02adc9004336"
      },
      "execution_count": 31,
      "outputs": [
        {
          "output_type": "execute_result",
          "data": {
            "text/plain": [
              "[1, 2, 3, 4, 5, 6]"
            ]
          },
          "metadata": {},
          "execution_count": 31
        }
      ]
    },
    {
      "cell_type": "code",
      "source": [
        "list.append(7)"
      ],
      "metadata": {
        "id": "fdUErCpKS7Wp"
      },
      "execution_count": 32,
      "outputs": []
    },
    {
      "cell_type": "code",
      "source": [
        "list"
      ],
      "metadata": {
        "colab": {
          "base_uri": "https://localhost:8080/"
        },
        "id": "b1G9otQgTGxB",
        "outputId": "3b7bbcae-5e3f-40ae-94c4-1aa300a3783f"
      },
      "execution_count": 33,
      "outputs": [
        {
          "output_type": "execute_result",
          "data": {
            "text/plain": [
              "[1, 2, 3, 4, 5, 6, 7]"
            ]
          },
          "metadata": {},
          "execution_count": 33
        }
      ]
    },
    {
      "cell_type": "code",
      "source": [
        "list.append(124)"
      ],
      "metadata": {
        "id": "NMnZosIqTHbC"
      },
      "execution_count": 34,
      "outputs": []
    },
    {
      "cell_type": "code",
      "source": [
        "list"
      ],
      "metadata": {
        "colab": {
          "base_uri": "https://localhost:8080/"
        },
        "id": "QvWqZYiRTMom",
        "outputId": "a8d8bee0-cf2f-4966-a2e3-e4a7546bf84d"
      },
      "execution_count": 35,
      "outputs": [
        {
          "output_type": "execute_result",
          "data": {
            "text/plain": [
              "[1, 2, 3, 4, 5, 6, 7, 124]"
            ]
          },
          "metadata": {},
          "execution_count": 35
        }
      ]
    },
    {
      "cell_type": "code",
      "source": [
        "list1 = [8,74,59,23,41,24,1]"
      ],
      "metadata": {
        "id": "VdomHLQDTNQj"
      },
      "execution_count": 36,
      "outputs": []
    },
    {
      "cell_type": "code",
      "source": [
        "list1.append(2)"
      ],
      "metadata": {
        "id": "OhMoojNITcdo"
      },
      "execution_count": 37,
      "outputs": []
    },
    {
      "cell_type": "code",
      "source": [
        "list1"
      ],
      "metadata": {
        "colab": {
          "base_uri": "https://localhost:8080/"
        },
        "id": "2gfZF1ChTfDg",
        "outputId": "5a8795eb-a3bc-41db-a28d-0c0464c16e12"
      },
      "execution_count": 38,
      "outputs": [
        {
          "output_type": "execute_result",
          "data": {
            "text/plain": [
              "[8, 74, 59, 23, 41, 24, 1, 2]"
            ]
          },
          "metadata": {},
          "execution_count": 38
        }
      ]
    },
    {
      "cell_type": "code",
      "source": [
        "list1.append(2)"
      ],
      "metadata": {
        "id": "X1KRbxl9TfyH"
      },
      "execution_count": 39,
      "outputs": []
    },
    {
      "cell_type": "code",
      "source": [
        "list1"
      ],
      "metadata": {
        "colab": {
          "base_uri": "https://localhost:8080/"
        },
        "id": "locJSL0CTkij",
        "outputId": "4e79debf-aae7-4776-d602-c34b49f931c0"
      },
      "execution_count": 40,
      "outputs": [
        {
          "output_type": "execute_result",
          "data": {
            "text/plain": [
              "[8, 74, 59, 23, 41, 24, 1, 2, 2]"
            ]
          },
          "metadata": {},
          "execution_count": 40
        }
      ]
    },
    {
      "cell_type": "code",
      "source": [
        "list1.append(\"tushar\")"
      ],
      "metadata": {
        "id": "kCHwq5c3TlTR"
      },
      "execution_count": 41,
      "outputs": []
    },
    {
      "cell_type": "code",
      "source": [
        "list1"
      ],
      "metadata": {
        "colab": {
          "base_uri": "https://localhost:8080/"
        },
        "id": "gxWLXYYzTthN",
        "outputId": "bf43c4d7-b947-4794-e9b6-bcbf8da3e61a"
      },
      "execution_count": 42,
      "outputs": [
        {
          "output_type": "execute_result",
          "data": {
            "text/plain": [
              "[8, 74, 59, 23, 41, 24, 1, 2, 2, 'tushar']"
            ]
          },
          "metadata": {},
          "execution_count": 42
        }
      ]
    },
    {
      "cell_type": "code",
      "source": [
        "#insert() - insert and element, to perticular index"
      ],
      "metadata": {
        "id": "2-Uw5eR9TuQH"
      },
      "execution_count": 43,
      "outputs": []
    },
    {
      "cell_type": "code",
      "source": [
        "list1.insert(0, \"hello\")   #.insert(index, value)"
      ],
      "metadata": {
        "id": "6-ye2tHvUJJJ"
      },
      "execution_count": 46,
      "outputs": []
    },
    {
      "cell_type": "code",
      "source": [
        "list1"
      ],
      "metadata": {
        "colab": {
          "base_uri": "https://localhost:8080/"
        },
        "id": "HX0k6SApUTEg",
        "outputId": "84d17a94-0627-47df-cd20-a783c21dcc9f"
      },
      "execution_count": 45,
      "outputs": [
        {
          "output_type": "execute_result",
          "data": {
            "text/plain": [
              "['hello', 8, 74, 59, 23, 41, 24, 1, 2, 2, 'tushar']"
            ]
          },
          "metadata": {},
          "execution_count": 45
        }
      ]
    },
    {
      "cell_type": "code",
      "source": [
        "list1.insert(5, 45.99)"
      ],
      "metadata": {
        "id": "bQDHD4REUT2y"
      },
      "execution_count": 51,
      "outputs": []
    },
    {
      "cell_type": "code",
      "source": [
        "list1"
      ],
      "metadata": {
        "colab": {
          "base_uri": "https://localhost:8080/"
        },
        "id": "wV3xpWIRU4Y1",
        "outputId": "1e74601a-273c-4555-a502-3e13477dfa0d"
      },
      "execution_count": 52,
      "outputs": [
        {
          "output_type": "execute_result",
          "data": {
            "text/plain": [
              "['hello', 'hello', 8, 74, 59, 45.99, 45.99, 23, 41, 24, 1, 2, 2, 'tushar']"
            ]
          },
          "metadata": {},
          "execution_count": 52
        }
      ]
    },
    {
      "cell_type": "code",
      "source": [
        "list1.insert(1, \"world\")"
      ],
      "metadata": {
        "id": "qbyftpDkVAuU"
      },
      "execution_count": 53,
      "outputs": []
    },
    {
      "cell_type": "code",
      "source": [
        "print(list1)"
      ],
      "metadata": {
        "colab": {
          "base_uri": "https://localhost:8080/"
        },
        "id": "YhnHPQwMVtEU",
        "outputId": "eda13b1b-663e-4e9d-b0bd-9eeab66a5dff"
      },
      "execution_count": 55,
      "outputs": [
        {
          "output_type": "stream",
          "name": "stdout",
          "text": [
            "['hello', 'world', 'hello', 8, 74, 59, 45.99, 45.99, 23, 41, 24, 1, 2, 2, 'tushar']\n"
          ]
        }
      ]
    },
    {
      "cell_type": "code",
      "source": [
        "#extend()- add multiple element from another iterable"
      ],
      "metadata": {
        "id": "6sfQlJWGVt0w"
      },
      "execution_count": 56,
      "outputs": []
    },
    {
      "cell_type": "code",
      "source": [
        "list1 = [1,2,3]"
      ],
      "metadata": {
        "id": "gKVR4dwWWGUC"
      },
      "execution_count": 57,
      "outputs": []
    },
    {
      "cell_type": "code",
      "source": [
        "list1"
      ],
      "metadata": {
        "colab": {
          "base_uri": "https://localhost:8080/"
        },
        "id": "MbAOn00hWfNj",
        "outputId": "9d434886-9e3e-415f-eaba-b34163800f03"
      },
      "execution_count": 58,
      "outputs": [
        {
          "output_type": "execute_result",
          "data": {
            "text/plain": [
              "[1, 2, 3]"
            ]
          },
          "metadata": {},
          "execution_count": 58
        }
      ]
    },
    {
      "cell_type": "code",
      "source": [
        "list1.extend([4,5,6])"
      ],
      "metadata": {
        "id": "jD5rN2nnW3OH"
      },
      "execution_count": 59,
      "outputs": []
    },
    {
      "cell_type": "code",
      "source": [
        "list1"
      ],
      "metadata": {
        "colab": {
          "base_uri": "https://localhost:8080/"
        },
        "id": "sOoHoE2dXBNn",
        "outputId": "be70ce53-9649-4545-c758-1912b79338e9"
      },
      "execution_count": 61,
      "outputs": [
        {
          "output_type": "execute_result",
          "data": {
            "text/plain": [
              "[1, 2, 3, 4, 5, 6]"
            ]
          },
          "metadata": {},
          "execution_count": 61
        }
      ]
    },
    {
      "cell_type": "markdown",
      "source": [
        "![image.png](data:image/png;base64,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)"
      ],
      "metadata": {
        "id": "1KkoziaOXUHP"
      }
    },
    {
      "cell_type": "code",
      "source": [
        "list3 = [9,8,7]"
      ],
      "metadata": {
        "id": "bkamfzidXCzC"
      },
      "execution_count": 62,
      "outputs": []
    },
    {
      "cell_type": "code",
      "source": [
        "list1.extend(list3)"
      ],
      "metadata": {
        "id": "BNIQB3byXgx1"
      },
      "execution_count": 63,
      "outputs": []
    },
    {
      "cell_type": "code",
      "source": [
        "list1"
      ],
      "metadata": {
        "colab": {
          "base_uri": "https://localhost:8080/"
        },
        "id": "tHUBRHgKXlag",
        "outputId": "3614beea-21aa-48e0-fed4-f1b426daa167"
      },
      "execution_count": 64,
      "outputs": [
        {
          "output_type": "execute_result",
          "data": {
            "text/plain": [
              "[1, 2, 3, 4, 5, 6, 9, 8, 7]"
            ]
          },
          "metadata": {},
          "execution_count": 64
        }
      ]
    },
    {
      "cell_type": "markdown",
      "source": [
        "![image.png](data:image/png;base64,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)"
      ],
      "metadata": {
        "id": "0f6H5VwPX2Z7"
      }
    },
    {
      "cell_type": "code",
      "source": [
        "#.remove()"
      ],
      "metadata": {
        "id": "H2zXA96mXmVw"
      },
      "execution_count": 65,
      "outputs": []
    },
    {
      "cell_type": "code",
      "source": [
        "list4 = [10,20,30,40,50]"
      ],
      "metadata": {
        "id": "Bh0878JUYG-S"
      },
      "execution_count": 66,
      "outputs": []
    },
    {
      "cell_type": "code",
      "source": [
        "list4.remove(20)"
      ],
      "metadata": {
        "id": "gJSJWIiHYJ8w"
      },
      "execution_count": 67,
      "outputs": []
    },
    {
      "cell_type": "code",
      "source": [
        "list4"
      ],
      "metadata": {
        "colab": {
          "base_uri": "https://localhost:8080/"
        },
        "id": "QGcXsdJuYMSK",
        "outputId": "c4a22d5b-5d95-4375-b48b-02a1cf787b5a"
      },
      "execution_count": 68,
      "outputs": [
        {
          "output_type": "execute_result",
          "data": {
            "text/plain": [
              "[10, 30, 40, 50]"
            ]
          },
          "metadata": {},
          "execution_count": 68
        }
      ]
    },
    {
      "cell_type": "code",
      "source": [
        "list5 = [20,20,10,30,30]"
      ],
      "metadata": {
        "id": "5niryoCqYNAg"
      },
      "execution_count": 69,
      "outputs": []
    },
    {
      "cell_type": "code",
      "source": [
        "list5.remove(20)"
      ],
      "metadata": {
        "id": "YUXPzcIBYgM2"
      },
      "execution_count": 70,
      "outputs": []
    },
    {
      "cell_type": "code",
      "source": [
        "list5"
      ],
      "metadata": {
        "colab": {
          "base_uri": "https://localhost:8080/"
        },
        "id": "OFZg1z0-YjGI",
        "outputId": "0f0f3826-1e92-4e0a-8f74-8bbd6f30c696"
      },
      "execution_count": 71,
      "outputs": [
        {
          "output_type": "execute_result",
          "data": {
            "text/plain": [
              "[20, 10, 30, 30]"
            ]
          },
          "metadata": {},
          "execution_count": 71
        }
      ]
    },
    {
      "cell_type": "code",
      "source": [
        "pmmodi = [20,30,50,40,60]"
      ],
      "metadata": {
        "id": "I2uy29eKYjzo"
      },
      "execution_count": 72,
      "outputs": []
    },
    {
      "cell_type": "code",
      "source": [
        "pmmodi.append(70)"
      ],
      "metadata": {
        "id": "l6uu-hYvY7jz"
      },
      "execution_count": 73,
      "outputs": []
    },
    {
      "cell_type": "code",
      "source": [
        "pmmodi"
      ],
      "metadata": {
        "colab": {
          "base_uri": "https://localhost:8080/"
        },
        "id": "uM1kSH-aZJYc",
        "outputId": "2e1aeaca-5ba2-4445-ba5b-0c8a5101f5a0"
      },
      "execution_count": 74,
      "outputs": [
        {
          "output_type": "execute_result",
          "data": {
            "text/plain": [
              "[20, 30, 50, 40, 60, 70]"
            ]
          },
          "metadata": {},
          "execution_count": 74
        }
      ]
    },
    {
      "cell_type": "code",
      "source": [
        "pmmodi.insert(0, 10)"
      ],
      "metadata": {
        "id": "vTmBwU8_ZKT6"
      },
      "execution_count": 75,
      "outputs": []
    },
    {
      "cell_type": "code",
      "source": [
        "pmmodi"
      ],
      "metadata": {
        "colab": {
          "base_uri": "https://localhost:8080/"
        },
        "id": "OzsbPzfAZO4H",
        "outputId": "bdf95515-f6a0-4234-9d5e-d9499c7318e1"
      },
      "execution_count": 76,
      "outputs": [
        {
          "output_type": "execute_result",
          "data": {
            "text/plain": [
              "[10, 20, 30, 50, 40, 60, 70]"
            ]
          },
          "metadata": {},
          "execution_count": 76
        }
      ]
    },
    {
      "cell_type": "code",
      "source": [
        "pmmodi.extend([80,90,100])"
      ],
      "metadata": {
        "id": "_Jv1Zlc5ZP06"
      },
      "execution_count": 77,
      "outputs": []
    },
    {
      "cell_type": "code",
      "source": [
        "pmmodi"
      ],
      "metadata": {
        "colab": {
          "base_uri": "https://localhost:8080/"
        },
        "id": "bvozTI5fZTgl",
        "outputId": "d8c27802-2eda-46b7-8097-296bceb668ef"
      },
      "execution_count": 78,
      "outputs": [
        {
          "output_type": "execute_result",
          "data": {
            "text/plain": [
              "[10, 20, 30, 50, 40, 60, 70, 80, 90, 100]"
            ]
          },
          "metadata": {},
          "execution_count": 78
        }
      ]
    },
    {
      "cell_type": "code",
      "source": [
        "pmmodi.remove(100)"
      ],
      "metadata": {
        "id": "C7DyG_59ZUUH"
      },
      "execution_count": 79,
      "outputs": []
    },
    {
      "cell_type": "code",
      "source": [
        "pmmodi"
      ],
      "metadata": {
        "colab": {
          "base_uri": "https://localhost:8080/"
        },
        "id": "kwlJZGCvZXQ5",
        "outputId": "8e0cbb93-a613-45f4-e447-1b1315c53bed"
      },
      "execution_count": 80,
      "outputs": [
        {
          "output_type": "execute_result",
          "data": {
            "text/plain": [
              "[10, 20, 30, 50, 40, 60, 70, 80, 90]"
            ]
          },
          "metadata": {},
          "execution_count": 80
        }
      ]
    },
    {
      "cell_type": "code",
      "source": [
        "#.pop()- remove element by index (default last)"
      ],
      "metadata": {
        "id": "AHeAKYMdZYVN"
      },
      "execution_count": 81,
      "outputs": []
    },
    {
      "cell_type": "code",
      "source": [
        "pmmodi.pop()"
      ],
      "metadata": {
        "colab": {
          "base_uri": "https://localhost:8080/"
        },
        "id": "kQ-uTrmrZ8Ao",
        "outputId": "62a0efc1-3c1d-4e53-8b13-ed0e7d4c088b"
      },
      "execution_count": 82,
      "outputs": [
        {
          "output_type": "execute_result",
          "data": {
            "text/plain": [
              "90"
            ]
          },
          "metadata": {},
          "execution_count": 82
        }
      ]
    },
    {
      "cell_type": "code",
      "source": [
        "pmmodi"
      ],
      "metadata": {
        "colab": {
          "base_uri": "https://localhost:8080/"
        },
        "id": "HmktZcznaA89",
        "outputId": "7c756a93-59c1-4916-87c8-8347963812c7"
      },
      "execution_count": 83,
      "outputs": [
        {
          "output_type": "execute_result",
          "data": {
            "text/plain": [
              "[10, 20, 30, 50, 40, 60, 70, 80]"
            ]
          },
          "metadata": {},
          "execution_count": 83
        }
      ]
    },
    {
      "cell_type": "code",
      "source": [
        "pmmodi.pop(1)"
      ],
      "metadata": {
        "colab": {
          "base_uri": "https://localhost:8080/"
        },
        "id": "UqjMsecLaG8f",
        "outputId": "deb54f49-8512-4f68-cf76-cad758524368"
      },
      "execution_count": 84,
      "outputs": [
        {
          "output_type": "execute_result",
          "data": {
            "text/plain": [
              "20"
            ]
          },
          "metadata": {},
          "execution_count": 84
        }
      ]
    },
    {
      "cell_type": "code",
      "source": [
        "pmmodi"
      ],
      "metadata": {
        "colab": {
          "base_uri": "https://localhost:8080/"
        },
        "id": "p8OUVpYpaSkR",
        "outputId": "c2fdb307-9a62-4721-acec-ceb4f4b3535a"
      },
      "execution_count": 85,
      "outputs": [
        {
          "output_type": "execute_result",
          "data": {
            "text/plain": [
              "[10, 30, 50, 40, 60, 70, 80]"
            ]
          },
          "metadata": {},
          "execution_count": 85
        }
      ]
    },
    {
      "cell_type": "code",
      "source": [
        "#.clear()"
      ],
      "metadata": {
        "id": "4l8SK1Z1aUPL"
      },
      "execution_count": 86,
      "outputs": []
    },
    {
      "cell_type": "code",
      "source": [
        "pmmodi.clear()"
      ],
      "metadata": {
        "id": "CC89LB7Xa37Z"
      },
      "execution_count": 87,
      "outputs": []
    },
    {
      "cell_type": "code",
      "source": [
        "pmmodi"
      ],
      "metadata": {
        "colab": {
          "base_uri": "https://localhost:8080/"
        },
        "id": "J0xwT0MBa74y",
        "outputId": "d525ebb5-f5a1-4109-f7ac-f9a8fce24d71"
      },
      "execution_count": 88,
      "outputs": [
        {
          "output_type": "execute_result",
          "data": {
            "text/plain": [
              "[]"
            ]
          },
          "metadata": {},
          "execution_count": 88
        }
      ]
    },
    {
      "cell_type": "code",
      "source": [],
      "metadata": {
        "id": "ikqI7b9-a9Bm"
      },
      "execution_count": null,
      "outputs": []
    }
  ]
}