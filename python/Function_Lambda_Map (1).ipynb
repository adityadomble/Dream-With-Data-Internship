{
  "nbformat": 4,
  "nbformat_minor": 0,
  "metadata": {
    "colab": {
      "provenance": []
    },
    "kernelspec": {
      "name": "python3",
      "display_name": "Python 3"
    },
    "language_info": {
      "name": "python"
    }
  },
  "cells": [
    {
      "cell_type": "code",
      "execution_count": 1,
      "metadata": {
        "id": "fR8-dnpL8dc1"
      },
      "outputs": [],
      "source": [
        "##Write a function add_numbers(a, b) that takes two numbers as input and returns their sum."
      ]
    },
    {
      "cell_type": "code",
      "source": [
        "def add_numbers(a, b):\n",
        "  return a + b"
      ],
      "metadata": {
        "id": "RR6MEMrb8z2t"
      },
      "execution_count": 2,
      "outputs": []
    },
    {
      "cell_type": "code",
      "source": [
        "add_numbers(5,10)    #call the function"
      ],
      "metadata": {
        "colab": {
          "base_uri": "https://localhost:8080/"
        },
        "id": "zszK182x9KNG",
        "outputId": "4317cc7a-0944-4f35-e08e-1f250c5d33a1"
      },
      "execution_count": 3,
      "outputs": [
        {
          "output_type": "execute_result",
          "data": {
            "text/plain": [
              "15"
            ]
          },
          "metadata": {},
          "execution_count": 3
        }
      ]
    },
    {
      "cell_type": "code",
      "source": [
        "#even_odd"
      ],
      "metadata": {
        "id": "zJb1Ogvh9OgS"
      },
      "execution_count": 4,
      "outputs": []
    },
    {
      "cell_type": "code",
      "source": [
        "def check_even_odd(n):\n",
        "  if n % 2 == 0:\n",
        "    print(\"Even\")\n",
        "  else:\n",
        "    print(\"odd\")"
      ],
      "metadata": {
        "id": "5GB7MEky9olN"
      },
      "execution_count": 5,
      "outputs": []
    },
    {
      "cell_type": "code",
      "source": [
        "check_even_odd(7)"
      ],
      "metadata": {
        "colab": {
          "base_uri": "https://localhost:8080/"
        },
        "id": "Pn6cLvAe966s",
        "outputId": "e9390b0a-3f1e-48a2-88f5-5a1a3dd7954c"
      },
      "execution_count": 6,
      "outputs": [
        {
          "output_type": "stream",
          "name": "stdout",
          "text": [
            "odd\n"
          ]
        }
      ]
    },
    {
      "cell_type": "code",
      "source": [
        "check_even_odd(10)"
      ],
      "metadata": {
        "colab": {
          "base_uri": "https://localhost:8080/"
        },
        "id": "QftBRwIy99KL",
        "outputId": "a14ac278-efb2-449b-81af-52b5308b5c31"
      },
      "execution_count": 7,
      "outputs": [
        {
          "output_type": "stream",
          "name": "stdout",
          "text": [
            "Even\n"
          ]
        }
      ]
    },
    {
      "cell_type": "code",
      "source": [
        "#max of 3 number"
      ],
      "metadata": {
        "id": "E-p--mXb-BrQ"
      },
      "execution_count": 8,
      "outputs": []
    },
    {
      "cell_type": "code",
      "source": [
        "def find_max(a,b,c):\n",
        "  return max(a,b,c)"
      ],
      "metadata": {
        "id": "rdw1ze9--nky"
      },
      "execution_count": 9,
      "outputs": []
    },
    {
      "cell_type": "code",
      "source": [
        "find_max(20,50,45)"
      ],
      "metadata": {
        "colab": {
          "base_uri": "https://localhost:8080/"
        },
        "id": "vl25p2zD-3YA",
        "outputId": "cf582dec-c6cf-4133-fc9e-57bd6aa8d76d"
      },
      "execution_count": 10,
      "outputs": [
        {
          "output_type": "execute_result",
          "data": {
            "text/plain": [
              "50"
            ]
          },
          "metadata": {},
          "execution_count": 10
        }
      ]
    },
    {
      "cell_type": "code",
      "source": [
        "min(80,60,70)"
      ],
      "metadata": {
        "colab": {
          "base_uri": "https://localhost:8080/"
        },
        "id": "Un-5_HQZ-6wA",
        "outputId": "d2fe3d50-7bb7-4fe6-962b-30b71ecf052d"
      },
      "execution_count": 11,
      "outputs": [
        {
          "output_type": "execute_result",
          "data": {
            "text/plain": [
              "60"
            ]
          },
          "metadata": {},
          "execution_count": 11
        }
      ]
    },
    {
      "cell_type": "code",
      "source": [
        "sum([50,60])"
      ],
      "metadata": {
        "colab": {
          "base_uri": "https://localhost:8080/"
        },
        "id": "OI8ceNqg-_HI",
        "outputId": "3aa75d27-a20c-4908-bbbe-06288018ee92"
      },
      "execution_count": 13,
      "outputs": [
        {
          "output_type": "execute_result",
          "data": {
            "text/plain": [
              "110"
            ]
          },
          "metadata": {},
          "execution_count": 13
        }
      ]
    },
    {
      "cell_type": "code",
      "source": [
        "len([4,5,6,7,8,9])  #length"
      ],
      "metadata": {
        "colab": {
          "base_uri": "https://localhost:8080/"
        },
        "id": "xNfUSfmm_K-U",
        "outputId": "f5539b90-bda7-46e8-b71b-9fd73843d46b"
      },
      "execution_count": 14,
      "outputs": [
        {
          "output_type": "execute_result",
          "data": {
            "text/plain": [
              "6"
            ]
          },
          "metadata": {},
          "execution_count": 14
        }
      ]
    },
    {
      "cell_type": "code",
      "source": [
        "sorted([7,4,5,8,9,6,3,5,4,1,2])"
      ],
      "metadata": {
        "colab": {
          "base_uri": "https://localhost:8080/"
        },
        "id": "Br1nwTvD_ghO",
        "outputId": "6200af95-8261-471d-cfe6-2c7fc4b1c4aa"
      },
      "execution_count": 15,
      "outputs": [
        {
          "output_type": "execute_result",
          "data": {
            "text/plain": [
              "[1, 2, 3, 4, 4, 5, 5, 6, 7, 8, 9]"
            ]
          },
          "metadata": {},
          "execution_count": 15
        }
      ]
    },
    {
      "cell_type": "code",
      "source": [
        "#factorial"
      ],
      "metadata": {
        "id": "VasgJ12K_ucA"
      },
      "execution_count": 16,
      "outputs": []
    },
    {
      "cell_type": "code",
      "source": [
        "def factorial(n):\n",
        "  fact = 1\n",
        "  for i in range(2, n+1):\n",
        "    #fact = fact * i\n",
        "    fact *= i\n",
        "  return fact"
      ],
      "metadata": {
        "id": "1rAwHuhaAHsR"
      },
      "execution_count": 17,
      "outputs": []
    },
    {
      "cell_type": "code",
      "source": [
        "factorial(5)"
      ],
      "metadata": {
        "colab": {
          "base_uri": "https://localhost:8080/"
        },
        "id": "ym8HazlpAy5v",
        "outputId": "a4799662-5a66-48ba-a517-9ab9c8f6ab89"
      },
      "execution_count": 18,
      "outputs": [
        {
          "output_type": "execute_result",
          "data": {
            "text/plain": [
              "120"
            ]
          },
          "metadata": {},
          "execution_count": 18
        }
      ]
    },
    {
      "cell_type": "code",
      "source": [
        "import math\n",
        "#math is library"
      ],
      "metadata": {
        "id": "sCXawUH4A1W8"
      },
      "execution_count": 19,
      "outputs": []
    },
    {
      "cell_type": "code",
      "source": [
        "math.factorial(5)"
      ],
      "metadata": {
        "colab": {
          "base_uri": "https://localhost:8080/"
        },
        "id": "Bvkuu4zMBaBC",
        "outputId": "06d18fb4-279e-4979-f7c1-625d341c444f"
      },
      "execution_count": 20,
      "outputs": [
        {
          "output_type": "execute_result",
          "data": {
            "text/plain": [
              "120"
            ]
          },
          "metadata": {},
          "execution_count": 20
        }
      ]
    },
    {
      "cell_type": "code",
      "source": [
        "math.sqrt(25)"
      ],
      "metadata": {
        "colab": {
          "base_uri": "https://localhost:8080/"
        },
        "id": "KWQw6K_nBeGl",
        "outputId": "cdd2c35a-77e6-4e7c-ec8c-79e5280b2aa5"
      },
      "execution_count": 21,
      "outputs": [
        {
          "output_type": "execute_result",
          "data": {
            "text/plain": [
              "5.0"
            ]
          },
          "metadata": {},
          "execution_count": 21
        }
      ]
    },
    {
      "cell_type": "code",
      "source": [
        "math.sin(40)"
      ],
      "metadata": {
        "colab": {
          "base_uri": "https://localhost:8080/"
        },
        "id": "nuqnrNutBjq1",
        "outputId": "c28da00b-8a0b-417f-951d-4ee3b9616097"
      },
      "execution_count": 22,
      "outputs": [
        {
          "output_type": "execute_result",
          "data": {
            "text/plain": [
              "0.7451131604793488"
            ]
          },
          "metadata": {},
          "execution_count": 22
        }
      ]
    },
    {
      "cell_type": "code",
      "source": [
        "float(20)"
      ],
      "metadata": {
        "colab": {
          "base_uri": "https://localhost:8080/"
        },
        "id": "Chh0xNqWBp3J",
        "outputId": "353839f4-8ef7-41bd-bfcb-c564d07194ad"
      },
      "execution_count": 23,
      "outputs": [
        {
          "output_type": "execute_result",
          "data": {
            "text/plain": [
              "20.0"
            ]
          },
          "metadata": {},
          "execution_count": 23
        }
      ]
    },
    {
      "cell_type": "code",
      "source": [
        "int(45.9)"
      ],
      "metadata": {
        "colab": {
          "base_uri": "https://localhost:8080/"
        },
        "id": "wFgJX3zNCUyH",
        "outputId": "de652fe3-da14-4b0a-e199-59d764ff20a0"
      },
      "execution_count": 24,
      "outputs": [
        {
          "output_type": "execute_result",
          "data": {
            "text/plain": [
              "45"
            ]
          },
          "metadata": {},
          "execution_count": 24
        }
      ]
    },
    {
      "cell_type": "code",
      "source": [
        "math.pi"
      ],
      "metadata": {
        "colab": {
          "base_uri": "https://localhost:8080/"
        },
        "id": "P24o2bnjCZNZ",
        "outputId": "095c9b63-6a3d-454e-e3fa-bd846e86e8d5"
      },
      "execution_count": 25,
      "outputs": [
        {
          "output_type": "execute_result",
          "data": {
            "text/plain": [
              "3.141592653589793"
            ]
          },
          "metadata": {},
          "execution_count": 25
        }
      ]
    },
    {
      "cell_type": "code",
      "source": [
        "#funtion to count vowels"
      ],
      "metadata": {
        "id": "Nk3UsklfCeZJ"
      },
      "execution_count": 26,
      "outputs": []
    },
    {
      "cell_type": "code",
      "source": [
        "def count_vowels(text):\n",
        "  vowels = \"aeiou\"\n",
        "  count = sum(1 for i in text.lower() if i in vowels)  #comperhention\n",
        "  return count"
      ],
      "metadata": {
        "id": "Ku44obYsCzlS"
      },
      "execution_count": 27,
      "outputs": []
    },
    {
      "cell_type": "code",
      "source": [
        "count_vowels(\"python PROGRAMMING AEIOU\")"
      ],
      "metadata": {
        "colab": {
          "base_uri": "https://localhost:8080/"
        },
        "id": "x2QacG2PDpJu",
        "outputId": "11221381-5219-4ad7-aea8-ca48e04594be"
      },
      "execution_count": 29,
      "outputs": [
        {
          "output_type": "execute_result",
          "data": {
            "text/plain": [
              "9"
            ]
          },
          "metadata": {},
          "execution_count": 29
        }
      ]
    },
    {
      "cell_type": "markdown",
      "source": [
        "#LAMBDA()\n",
        "\n",
        "#MAP()\n",
        "\n",
        "#FILTER()\n",
        "\n",
        "#anonymous function - a function without name"
      ],
      "metadata": {
        "id": "6zHIT0o3E_RI"
      }
    },
    {
      "cell_type": "code",
      "source": [
        "#lambda used to create short, anonymous function"
      ],
      "metadata": {
        "id": "3zc2889TDtp9"
      },
      "execution_count": 30,
      "outputs": []
    },
    {
      "cell_type": "code",
      "source": [
        "#syntax -\n",
        "\n",
        "# lambda arguments: expression"
      ],
      "metadata": {
        "id": "THaHM51cFoUM"
      },
      "execution_count": 31,
      "outputs": []
    },
    {
      "cell_type": "code",
      "source": [
        "square = lambda x: x * x"
      ],
      "metadata": {
        "id": "l0YfHJ9rFvxb"
      },
      "execution_count": 32,
      "outputs": []
    },
    {
      "cell_type": "code",
      "source": [
        "square(5)"
      ],
      "metadata": {
        "colab": {
          "base_uri": "https://localhost:8080/"
        },
        "id": "wqc6H_EKF_0W",
        "outputId": "7ff216af-8acd-4933-eecf-ea61be8f0040"
      },
      "execution_count": 33,
      "outputs": [
        {
          "output_type": "execute_result",
          "data": {
            "text/plain": [
              "25"
            ]
          },
          "metadata": {},
          "execution_count": 33
        }
      ]
    },
    {
      "cell_type": "code",
      "source": [
        "add = lambda a ,b : a + b"
      ],
      "metadata": {
        "id": "Tfda6qchGB5v"
      },
      "execution_count": 34,
      "outputs": []
    },
    {
      "cell_type": "code",
      "source": [
        "add(3,7)"
      ],
      "metadata": {
        "colab": {
          "base_uri": "https://localhost:8080/"
        },
        "id": "aEnA6nEjGVHm",
        "outputId": "364fd41b-103e-4e08-9624-91d06aeb5453"
      },
      "execution_count": 35,
      "outputs": [
        {
          "output_type": "execute_result",
          "data": {
            "text/plain": [
              "10"
            ]
          },
          "metadata": {},
          "execution_count": 35
        }
      ]
    },
    {
      "cell_type": "code",
      "source": [
        "is_even = lambda x :\"even\" if x % 2 == 0 else \"odd\""
      ],
      "metadata": {
        "id": "DCAdCkNuGXRJ"
      },
      "execution_count": 36,
      "outputs": []
    },
    {
      "cell_type": "code",
      "source": [
        "is_even(4)"
      ],
      "metadata": {
        "colab": {
          "base_uri": "https://localhost:8080/",
          "height": 36
        },
        "id": "4K92Xzc6GpvR",
        "outputId": "61693aaf-e9e2-4ffe-b18d-1e33ce10bbe6"
      },
      "execution_count": 37,
      "outputs": [
        {
          "output_type": "execute_result",
          "data": {
            "text/plain": [
              "'even'"
            ],
            "application/vnd.google.colaboratory.intrinsic+json": {
              "type": "string"
            }
          },
          "metadata": {},
          "execution_count": 37
        }
      ]
    },
    {
      "cell_type": "code",
      "source": [
        "is_even(5)"
      ],
      "metadata": {
        "colab": {
          "base_uri": "https://localhost:8080/",
          "height": 36
        },
        "id": "w0NWx79_GsSj",
        "outputId": "c289e8ae-8217-4e47-c091-f61185a86dbf"
      },
      "execution_count": 38,
      "outputs": [
        {
          "output_type": "execute_result",
          "data": {
            "text/plain": [
              "'odd'"
            ],
            "application/vnd.google.colaboratory.intrinsic+json": {
              "type": "string"
            }
          },
          "metadata": {},
          "execution_count": 38
        }
      ]
    },
    {
      "cell_type": "code",
      "source": [
        "#map( use for all items in an iterable(list, tuple))\n",
        "#map never use alone- map always use with lambda"
      ],
      "metadata": {
        "id": "Ggv4ekZsGuLU"
      },
      "execution_count": 40,
      "outputs": []
    },
    {
      "cell_type": "code",
      "source": [
        "num = [1,2,3,4,5,6]"
      ],
      "metadata": {
        "id": "wuKHuOpwHIb3"
      },
      "execution_count": 41,
      "outputs": []
    },
    {
      "cell_type": "code",
      "source": [
        "square = set( map(lambda x : x * x, num) )"
      ],
      "metadata": {
        "id": "_noi4o45HXtC"
      },
      "execution_count": 50,
      "outputs": []
    },
    {
      "cell_type": "code",
      "source": [
        "square"
      ],
      "metadata": {
        "colab": {
          "base_uri": "https://localhost:8080/"
        },
        "id": "bWu-_pfCIHJv",
        "outputId": "dc4ec72f-c3a2-4b06-fff7-16a7a67446e9"
      },
      "execution_count": 51,
      "outputs": [
        {
          "output_type": "execute_result",
          "data": {
            "text/plain": [
              "{1, 4, 9, 16, 25, 36}"
            ]
          },
          "metadata": {},
          "execution_count": 51
        }
      ]
    },
    {
      "cell_type": "code",
      "source": [
        "double = list(map(lambda x : x * 2, num))"
      ],
      "metadata": {
        "id": "gC0Z6xsLIIuO"
      },
      "execution_count": 52,
      "outputs": []
    },
    {
      "cell_type": "code",
      "source": [
        "double"
      ],
      "metadata": {
        "colab": {
          "base_uri": "https://localhost:8080/"
        },
        "id": "dFhGn3fAIsRf",
        "outputId": "228a6673-6b9f-43de-bb95-b2dd07f448f9"
      },
      "execution_count": 53,
      "outputs": [
        {
          "output_type": "execute_result",
          "data": {
            "text/plain": [
              "[2, 4, 6, 8, 10, 12]"
            ]
          },
          "metadata": {},
          "execution_count": 53
        }
      ]
    },
    {
      "cell_type": "code",
      "source": [
        "#filter - filter with condition"
      ],
      "metadata": {
        "id": "SngNfolHItVy"
      },
      "execution_count": 54,
      "outputs": []
    },
    {
      "cell_type": "code",
      "source": [
        "even_no = list( filter ( lambda x : x % 2 == 0 , num) )"
      ],
      "metadata": {
        "id": "GtcMbTCtJmBD"
      },
      "execution_count": 55,
      "outputs": []
    },
    {
      "cell_type": "code",
      "source": [
        "even_no"
      ],
      "metadata": {
        "colab": {
          "base_uri": "https://localhost:8080/"
        },
        "id": "Bo7nRJuFJ5F5",
        "outputId": "35ecb02c-1e90-4b18-b903-10ff3fecb640"
      },
      "execution_count": 56,
      "outputs": [
        {
          "output_type": "execute_result",
          "data": {
            "text/plain": [
              "[2, 4, 6]"
            ]
          },
          "metadata": {},
          "execution_count": 56
        }
      ]
    },
    {
      "cell_type": "code",
      "source": [
        "even_no_map = list( map ( lambda x : x % 2 == 0 , num) )"
      ],
      "metadata": {
        "id": "s9wD35qnJ6lT"
      },
      "execution_count": 57,
      "outputs": []
    },
    {
      "cell_type": "code",
      "source": [
        "even_no_map"
      ],
      "metadata": {
        "colab": {
          "base_uri": "https://localhost:8080/"
        },
        "id": "w8Mq5iAUKBMX",
        "outputId": "f2acecc1-9431-492b-cafa-2878d34223fc"
      },
      "execution_count": 58,
      "outputs": [
        {
          "output_type": "execute_result",
          "data": {
            "text/plain": [
              "[False, True, False, True, False, True]"
            ]
          },
          "metadata": {},
          "execution_count": 58
        }
      ]
    },
    {
      "cell_type": "code",
      "source": [
        "num1 = [5,12,7,22,4,25,9,6,18]"
      ],
      "metadata": {
        "id": "EXoaIWvMKCqh"
      },
      "execution_count": 59,
      "outputs": []
    },
    {
      "cell_type": "code",
      "source": [
        "greater_than_10 = list( filter( lambda x : x > 10 , num1) )"
      ],
      "metadata": {
        "id": "Xbx7YmooLGAq"
      },
      "execution_count": 60,
      "outputs": []
    },
    {
      "cell_type": "code",
      "source": [
        "greater_than_10"
      ],
      "metadata": {
        "colab": {
          "base_uri": "https://localhost:8080/"
        },
        "id": "t306GQIYLgFR",
        "outputId": "cbdcecde-22c3-470e-bc40-3369a7c3f82b"
      },
      "execution_count": 61,
      "outputs": [
        {
          "output_type": "execute_result",
          "data": {
            "text/plain": [
              "[12, 22, 25, 18]"
            ]
          },
          "metadata": {},
          "execution_count": 61
        }
      ]
    },
    {
      "cell_type": "code",
      "source": [
        "def add(a,b):\n",
        "  return a + b\n",
        "  #send value back to the caller and end he function"
      ],
      "metadata": {
        "id": "ulc1eOwqNE8K"
      },
      "execution_count": 63,
      "outputs": []
    },
    {
      "cell_type": "code",
      "source": [
        "add(4,5)"
      ],
      "metadata": {
        "colab": {
          "base_uri": "https://localhost:8080/"
        },
        "id": "RaMDaHlIN13i",
        "outputId": "58eec7e4-b356-40ce-fd8a-af21b6bd6d17"
      },
      "execution_count": 64,
      "outputs": [
        {
          "output_type": "execute_result",
          "data": {
            "text/plain": [
              "9"
            ]
          },
          "metadata": {},
          "execution_count": 64
        }
      ]
    },
    {
      "cell_type": "code",
      "source": [
        "def add(a,b):\n",
        "  print(a + b)\n",
        "  #only display"
      ],
      "metadata": {
        "id": "ErkVnsjeN3i0"
      },
      "execution_count": 65,
      "outputs": []
    },
    {
      "cell_type": "code",
      "source": [
        "add(4,5)"
      ],
      "metadata": {
        "colab": {
          "base_uri": "https://localhost:8080/"
        },
        "id": "4UF1DMBAN8zq",
        "outputId": "f5e1f894-bf9e-4646-b079-85b30fad8b8d"
      },
      "execution_count": 66,
      "outputs": [
        {
          "output_type": "stream",
          "name": "stdout",
          "text": [
            "9\n"
          ]
        }
      ]
    },
    {
      "cell_type": "code",
      "source": [],
      "metadata": {
        "id": "Ab5fWrW6N-3P"
      },
      "execution_count": null,
      "outputs": []
    }
  ]
}