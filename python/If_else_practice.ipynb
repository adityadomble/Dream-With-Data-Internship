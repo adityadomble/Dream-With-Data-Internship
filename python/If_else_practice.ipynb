{
  "nbformat": 4,
  "nbformat_minor": 0,
  "metadata": {
    "colab": {
      "provenance": []
    },
    "kernelspec": {
      "name": "python3",
      "display_name": "Python 3"
    },
    "language_info": {
      "name": "python"
    }
  },
  "cells": [
    {
      "cell_type": "markdown",
      "source": [
        "1. Write a Python program to check if a number is positive, negative, or zero.  \n",
        "2. Write a program that takes a user's age as input and prints whether they are a minor, an adult, or a senior citizen.  \n",
        "3. Write a program to check if a given number is even or odd.  \n",
        "4. Write a program to find the largest of two numbers entered by the user.  \n",
        "5. Write a program that checks if a number is divisible by both 5 and 7.  \n",
        "\n",
        "### *Intermediate Questions*  \n",
        "6. Write a program to determine whether a given year is a leap year or not.  \n",
        "7. Write a program that asks for the user's marks and prints the grade based on the following:  \n",
        "   - 90-100: A  \n",
        "   - 80-89: B  \n",
        "   - 70-79: C  \n",
        "   - 60-69: D  \n",
        "   - Below 60: F  \n",
        "8. Write a Python program that asks the user for their gender (M or F) and prints a message accordingly.  \n",
        "9. Write a program to check if a number is in the range of 1 to 100.  \n",
        "10. Write a Python script to check if a triangle is valid based on the sum of its angles (sum must be 180°).  \n",
        "\n",
        "### *Advanced Questions*  \n",
        "11. Write a program to determine whether a given character is a vowel or a consonant.  \n",
        "12. Write a program that asks for a password and checks if it matches a predefined password.  \n",
        "13. Write a program that takes the three sides of a triangle as input and determines whether it is an equilateral, isosceles, or scalene triangle.  \n",
        "14. Write a program to check if a person is eligible to vote (age must be 18 or above).  \n",
        "15. Write a Python program to determine whether a given three-digit number is an Armstrong number or not.  \n",
        "\n",
        "### *Real-World Scenarios*  \n",
        "16. A company gives bonuses based on an employee’s salary:  \n",
        "   - If salary < ₹50,000, bonus is 10%.  \n",
        "   - If salary ≥ ₹50,000, bonus is 5%.  \n",
        "   - Calculate and print the bonus amount.  \n",
        "17. A shop offers a discount based on purchase amount:  \n",
        "   - Above ₹5000: 20% discount  \n",
        "   - ₹1000-₹5000: 10% discount  \n",
        "   - Below ₹1000: No discount  \n",
        "   - Ask the user for the purchase amount and calculate the final price.  \n",
        "18. Write a program to check whether a given day is a weekday or a weekend.  \n",
        "19. Take three numbers as input and print them in ascending order.  \n",
        "20. A train ticket fare is determined as follows:  \n",
        "   - Age < 5: Free  \n",
        "   - Age 5-18: 50% of full fare  \n",
        "   - Age 18-60: Full fare  \n",
        "   - Age 60+: 30% discount on full fare  \n",
        "   - Ask the user for their age and print the applicable fare for a ₹500 ticket."
      ],
      "metadata": {
        "id": "kfD7a4D4fwxI"
      }
    },
    {
      "cell_type": "code",
      "execution_count": 1,
      "metadata": {
        "id": "Rcve1-JnUnu1"
      },
      "outputs": [],
      "source": [
        "#check - positive, negative or zero"
      ]
    },
    {
      "cell_type": "code",
      "source": [
        "num = int(input(\"Enter a number :- \"))\n",
        "if num > 0:\n",
        "  print(\"positive\")\n",
        "elif num < 0:\n",
        "  print(\"negative\")\n",
        "else:\n",
        "  print(\"zero\")"
      ],
      "metadata": {
        "colab": {
          "base_uri": "https://localhost:8080/"
        },
        "id": "WBgeDcucWwW8",
        "outputId": "0ecdbe34-c0c8-4a79-b187-0613dec6f7f3"
      },
      "execution_count": 2,
      "outputs": [
        {
          "output_type": "stream",
          "name": "stdout",
          "text": [
            "Enter a number :- 5\n",
            "positive\n"
          ]
        }
      ]
    },
    {
      "cell_type": "code",
      "source": [
        "#minor, adult, seniors"
      ],
      "metadata": {
        "id": "KXHnb0woXEQd"
      },
      "execution_count": 3,
      "outputs": []
    },
    {
      "cell_type": "code",
      "source": [
        "age = int(input(\"enter your age :- \"))\n",
        "if age < 18:\n",
        "  print(\"minor\")\n",
        "elif age < 60:\n",
        "  print(\"adult\")\n",
        "else:\n",
        "  print(\"senior\")"
      ],
      "metadata": {
        "colab": {
          "base_uri": "https://localhost:8080/"
        },
        "id": "fpRj6GI4XQ2Q",
        "outputId": "e3531f2e-8fc5-444b-e880-cf301bf0c73a"
      },
      "execution_count": 4,
      "outputs": [
        {
          "output_type": "stream",
          "name": "stdout",
          "text": [
            "enter your age :- 18\n",
            "adult\n"
          ]
        }
      ]
    },
    {
      "cell_type": "code",
      "source": [
        "#even odd"
      ],
      "metadata": {
        "id": "zsAtcbt2XiGS"
      },
      "execution_count": 5,
      "outputs": []
    },
    {
      "cell_type": "code",
      "source": [
        "num = int(input(\"Enter the number :- \"))\n",
        "if num % 2 == 0:\n",
        "  print(\"even\")\n",
        "else:\n",
        "  print(\"odd\")"
      ],
      "metadata": {
        "colab": {
          "base_uri": "https://localhost:8080/"
        },
        "id": "9bvO_ihbXslY",
        "outputId": "ec32d581-c12e-42db-89de-e633d86fba32"
      },
      "execution_count": 6,
      "outputs": [
        {
          "output_type": "stream",
          "name": "stdout",
          "text": [
            "Enter the number :- 45\n",
            "odd\n"
          ]
        }
      ]
    },
    {
      "cell_type": "code",
      "source": [
        "#largetst from 2 number"
      ],
      "metadata": {
        "id": "5fblkiqjX2b6"
      },
      "execution_count": 7,
      "outputs": []
    },
    {
      "cell_type": "code",
      "source": [
        "a = int(input(\"Enter first number :- \"))\n",
        "b = int (input(\"Enter second number:- \"))\n",
        "if a > b:\n",
        "  print(\"largest number is a \", a)\n",
        "else:\n",
        "  print(\"larget number is b \", b)"
      ],
      "metadata": {
        "colab": {
          "base_uri": "https://localhost:8080/"
        },
        "id": "LKbKHK_CX8LV",
        "outputId": "b13f22b2-1e89-46dd-d418-5d20cda259ed"
      },
      "execution_count": 8,
      "outputs": [
        {
          "output_type": "stream",
          "name": "stdout",
          "text": [
            "Enter first number :- 5\n",
            "Enter second number:- 8\n",
            "larget number is b  8\n"
          ]
        }
      ]
    },
    {
      "cell_type": "code",
      "source": [
        "#check divisibal by 5 and 7"
      ],
      "metadata": {
        "id": "8ZtSn2BdYQv9"
      },
      "execution_count": 9,
      "outputs": []
    },
    {
      "cell_type": "code",
      "source": [
        "num = int(input(\"enter the number:- \"))\n",
        "if num % 5 == 0 and num % 7 ==0:\n",
        "  print(\"The number is divisible by 5 and 7 both\")\n",
        "else:\n",
        "  print(\"not divisible by 5 and 7 both\")"
      ],
      "metadata": {
        "colab": {
          "base_uri": "https://localhost:8080/"
        },
        "id": "cO3xsVt9Ybvn",
        "outputId": "62f29412-f897-46f9-a7c9-5a9efc0a485d"
      },
      "execution_count": 10,
      "outputs": [
        {
          "output_type": "stream",
          "name": "stdout",
          "text": [
            "enter the number:- 9\n",
            "not divisible by 5 and 7 both\n"
          ]
        }
      ]
    },
    {
      "cell_type": "code",
      "source": [
        "#leap year"
      ],
      "metadata": {
        "id": "K-qllsJfYuBM"
      },
      "execution_count": 11,
      "outputs": []
    },
    {
      "cell_type": "code",
      "source": [
        "year = int(input(\"Enter a year :- \"))\n",
        "\n",
        "if (year % 4 == 0 and year % 100 != 0) or (year % 400 == 0):\n",
        "  print(\"leap year\")\n",
        "else:\n",
        "  print(\"not leap year\")"
      ],
      "metadata": {
        "colab": {
          "base_uri": "https://localhost:8080/"
        },
        "id": "KQh1d2FwZOs0",
        "outputId": "1ff540e1-ec71-411c-9f79-62d71bcad4fd"
      },
      "execution_count": 12,
      "outputs": [
        {
          "output_type": "stream",
          "name": "stdout",
          "text": [
            "Enter a year :- 2000\n",
            "leap year\n"
          ]
        }
      ]
    },
    {
      "cell_type": "code",
      "source": [
        "2000"
      ],
      "metadata": {
        "id": "Y9mQzXU9ZlQl",
        "colab": {
          "base_uri": "https://localhost:8080/"
        },
        "outputId": "9065d2f8-ac88-408f-d1db-3e77b3aae392"
      },
      "execution_count": 14,
      "outputs": [
        {
          "output_type": "execute_result",
          "data": {
            "text/plain": [
              "2000"
            ]
          },
          "metadata": {},
          "execution_count": 14
        }
      ]
    },
    {
      "cell_type": "code",
      "source": [
        "#grade"
      ],
      "metadata": {
        "id": "SVgvtgkEZWOH"
      },
      "execution_count": 15,
      "outputs": []
    },
    {
      "cell_type": "code",
      "source": [
        "marks = int(input(\"Enter your marks: \"))\n",
        "if marks >= 90:\n",
        "    print(\"Grade: A\")\n",
        "elif marks >= 80:\n",
        "    print(\"Grade: B\")\n",
        "elif marks >= 70:\n",
        "    print(\"Grade: C\")\n",
        "elif marks >= 60:\n",
        "    print(\"Grade: D\")\n",
        "else:\n",
        "    print(\"Grade: F\")\n"
      ],
      "metadata": {
        "colab": {
          "base_uri": "https://localhost:8080/"
        },
        "id": "Ycfl8aXnZY6s",
        "outputId": "54639a57-4982-4da7-a154-fa765926fb41"
      },
      "execution_count": 16,
      "outputs": [
        {
          "output_type": "stream",
          "name": "stdout",
          "text": [
            "Enter your marks: 68\n",
            "Grade: D\n"
          ]
        }
      ]
    },
    {
      "cell_type": "code",
      "source": [
        "#gender based msg"
      ],
      "metadata": {
        "id": "Qg2WrYgzZbJM"
      },
      "execution_count": 18,
      "outputs": []
    },
    {
      "cell_type": "code",
      "source": [
        "a = \"rahul\""
      ],
      "metadata": {
        "id": "9-mZJC6GZw9q"
      },
      "execution_count": 19,
      "outputs": []
    },
    {
      "cell_type": "code",
      "source": [
        "a.upper()"
      ],
      "metadata": {
        "colab": {
          "base_uri": "https://localhost:8080/",
          "height": 35
        },
        "id": "CCW_B2dxZ0J0",
        "outputId": "efb01f13-c880-46a0-8b9d-7053e287ca8c"
      },
      "execution_count": 20,
      "outputs": [
        {
          "output_type": "execute_result",
          "data": {
            "text/plain": [
              "'RAHUL'"
            ],
            "application/vnd.google.colaboratory.intrinsic+json": {
              "type": "string"
            }
          },
          "metadata": {},
          "execution_count": 20
        }
      ]
    },
    {
      "cell_type": "code",
      "source": [
        "gender = input(\"Enter gender (M/F):-\").upper()\n",
        "if gender == \"M\":\n",
        "  print(\"Hello Sir..!\")\n",
        "elif gender == \"F\":\n",
        "  print(\"Hello Mam..!\")\n",
        "else:\n",
        "  print(\"Invalid Selection\")"
      ],
      "metadata": {
        "colab": {
          "base_uri": "https://localhost:8080/"
        },
        "id": "Fzake04MZhbQ",
        "outputId": "a6bc90a0-75fc-4005-a6ec-c1b94c9f66b9"
      },
      "execution_count": 22,
      "outputs": [
        {
          "output_type": "stream",
          "name": "stdout",
          "text": [
            "Enter gender (M/F):-m\n",
            "Hello Sir..!\n"
          ]
        }
      ]
    },
    {
      "cell_type": "code",
      "source": [
        "#check number is in range (1 - 100)"
      ],
      "metadata": {
        "id": "R1BMPtKHaIv_"
      },
      "execution_count": 23,
      "outputs": []
    },
    {
      "cell_type": "code",
      "source": [
        "num = int(input(\"Enter a number:-\"))\n",
        "if 1 <= num <= 100:\n",
        "  print(\"number is in range 1 to 100\")\n",
        "else:\n",
        "  print(\"number is out of range\")"
      ],
      "metadata": {
        "colab": {
          "base_uri": "https://localhost:8080/"
        },
        "id": "LhvNfeCeaRRG",
        "outputId": "70b0255d-05d9-42d7-e04c-e21265fc5f8c"
      },
      "execution_count": 24,
      "outputs": [
        {
          "output_type": "stream",
          "name": "stdout",
          "text": [
            "Enter a number:-101\n",
            "number is out of range\n"
          ]
        }
      ]
    },
    {
      "cell_type": "code",
      "source": [
        "##valid trangle with ange = 180"
      ],
      "metadata": {
        "id": "loN-eHHuaf4y"
      },
      "execution_count": 25,
      "outputs": []
    },
    {
      "cell_type": "code",
      "source": [
        "a = int(input(\"Enter first angle:-\"))\n",
        "b = int(input(\"Enter second angle:-\"))\n",
        "c = int(input(\"Enter third angle:-\"))\n",
        "if a + b + c ==180:\n",
        "  print(\"valind trangle\")\n",
        "else:\n",
        "  print(\"invalid trangle\")"
      ],
      "metadata": {
        "colab": {
          "base_uri": "https://localhost:8080/"
        },
        "id": "DaBo3t3RatDd",
        "outputId": "9825c453-f05c-42a0-f1d1-3152eb9aab0b"
      },
      "execution_count": 26,
      "outputs": [
        {
          "output_type": "stream",
          "name": "stdout",
          "text": [
            "Enter first angle:-60\n",
            "Enter second angle:-60\n",
            "Enter third angle:-60\n",
            "valind trangle\n"
          ]
        }
      ]
    },
    {
      "cell_type": "code",
      "source": [
        "#check if character is a vowel or conconenet"
      ],
      "metadata": {
        "id": "A1qSbDUbbAVW"
      },
      "execution_count": 27,
      "outputs": []
    },
    {
      "cell_type": "code",
      "source": [
        "char = input(\"Enter first angle:-\").lower()\n",
        "if char in \"aeiou\":\n",
        "  print(\"vowels\")\n",
        "else:\n",
        "  print(\"consonant\")"
      ],
      "metadata": {
        "colab": {
          "base_uri": "https://localhost:8080/"
        },
        "id": "bRNLR2WvbIIj",
        "outputId": "2d7e15ab-5591-4ad0-e0f3-e7979ebd1664"
      },
      "execution_count": 28,
      "outputs": [
        {
          "output_type": "stream",
          "name": "stdout",
          "text": [
            "Enter first angle:-a\n",
            "vowels\n"
          ]
        }
      ]
    },
    {
      "cell_type": "code",
      "source": [
        "# password verification"
      ],
      "metadata": {
        "id": "O9jqntwBbT-u"
      },
      "execution_count": 29,
      "outputs": []
    },
    {
      "cell_type": "code",
      "source": [
        "set_password = \"Python@123\"\n",
        "\n",
        "password = input(\"Enter Your Password:- must contain 1 cap, 1small, 1 char, 1 num, 9 digit\")\n",
        "\n",
        "if password == set_password:\n",
        "  print(\"access granted\")\n",
        "else:\n",
        "  print(\"invalid passwor\")"
      ],
      "metadata": {
        "colab": {
          "base_uri": "https://localhost:8080/"
        },
        "id": "mWsJqEWbbXY9",
        "outputId": "36ecb659-5dd7-4996-e22c-dfea4729b0fe"
      },
      "execution_count": 30,
      "outputs": [
        {
          "output_type": "stream",
          "name": "stdout",
          "text": [
            "Enter Your Password:-Tushar@123\n",
            "invalid passwor\n"
          ]
        }
      ]
    },
    {
      "cell_type": "code",
      "source": [
        "#trangle type\n"
      ],
      "metadata": {
        "id": "RjiQ3LlLbqrQ"
      },
      "execution_count": 31,
      "outputs": []
    },
    {
      "cell_type": "code",
      "source": [
        "a = int(input(\"Enter first side:-\"))\n",
        "b = int(input(\"Enter second side:-\"))\n",
        "c = int(input(\"Enter third side:-\"))\n",
        "\n",
        "if a == b == c:\n",
        "  print(\"equilateral triangle\")\n",
        "elif a ==b or b ==c or a==c:\n",
        "  print(\"isoscles triangle\")\n",
        "else:\n",
        "  print(\"scalene triangle\")"
      ],
      "metadata": {
        "colab": {
          "base_uri": "https://localhost:8080/"
        },
        "id": "OElxeuQxb5E5",
        "outputId": "c9ebbc26-c1fa-4275-9faa-0f766477b5fe"
      },
      "execution_count": 32,
      "outputs": [
        {
          "output_type": "stream",
          "name": "stdout",
          "text": [
            "Enter first side:-48\n",
            "Enter second side:-48\n",
            "Enter third side:-5\n",
            "isoscles triangle\n"
          ]
        }
      ]
    },
    {
      "cell_type": "code",
      "source": [
        "#voting -"
      ],
      "metadata": {
        "id": "VYzcG0_bcHa5"
      },
      "execution_count": 33,
      "outputs": []
    },
    {
      "cell_type": "code",
      "source": [
        "age = int(input(\"Enter your age: \"))\n",
        "if age >= 18:\n",
        "    print(\"Eligible to vote\")\n",
        "else:\n",
        "    print(\"Not eligible to vote\")\n"
      ],
      "metadata": {
        "colab": {
          "base_uri": "https://localhost:8080/"
        },
        "id": "an8iFSGOcdSf",
        "outputId": "1d4f9c24-24e0-4d94-81c0-994baa6ecfcd"
      },
      "execution_count": 34,
      "outputs": [
        {
          "output_type": "stream",
          "name": "stdout",
          "text": [
            "Enter your age: 45\n",
            "Eligible to vote\n"
          ]
        }
      ]
    },
    {
      "cell_type": "code",
      "source": [
        "#armstrong number . ex= 153 = 1**3 + 5 **3 + 3**3 = 153"
      ],
      "metadata": {
        "id": "PBIhAWzEcdve"
      },
      "execution_count": 35,
      "outputs": []
    },
    {
      "cell_type": "code",
      "source": [
        "str(145)"
      ],
      "metadata": {
        "colab": {
          "base_uri": "https://localhost:8080/",
          "height": 35
        },
        "id": "uEMZvQfCc_CL",
        "outputId": "a85ea300-773e-454c-e660-6705d1943e3b"
      },
      "execution_count": 36,
      "outputs": [
        {
          "output_type": "execute_result",
          "data": {
            "text/plain": [
              "'145'"
            ],
            "application/vnd.google.colaboratory.intrinsic+json": {
              "type": "string"
            }
          },
          "metadata": {},
          "execution_count": 36
        }
      ]
    },
    {
      "cell_type": "code",
      "source": [
        "num = int(input(\"Enter a three digit number:- \"))\n",
        "\n",
        "sum_of_digit  = sum(int(i)**3 for i in str(num) )\n",
        "if num == sum_of_digit:\n",
        "  print(\"armstrong number\")\n",
        "else:\n",
        "  print(\"not armstrong\")"
      ],
      "metadata": {
        "colab": {
          "base_uri": "https://localhost:8080/"
        },
        "id": "rG-Xmg28crbJ",
        "outputId": "42c41b15-6e47-4a18-9832-d3154cc65a5c"
      },
      "execution_count": 37,
      "outputs": [
        {
          "output_type": "stream",
          "name": "stdout",
          "text": [
            "Enter a three digit number:- 153\n",
            "armstrong number\n"
          ]
        }
      ]
    },
    {
      "cell_type": "code",
      "source": [
        "#bonus on salary"
      ],
      "metadata": {
        "id": "QhD4JAlUdQMx"
      },
      "execution_count": 38,
      "outputs": []
    },
    {
      "cell_type": "code",
      "source": [
        "salary = float(input(\"Enter your salary: \"))\n",
        "\n",
        "if salary < 50000:\n",
        "  bonus = salary * 0.1\n",
        "else:\n",
        "  bonus = salary * 0.05\n",
        "\n",
        "print(\"your bonus is :- \", bonus)"
      ],
      "metadata": {
        "colab": {
          "base_uri": "https://localhost:8080/"
        },
        "id": "5LDHeeg-dUGA",
        "outputId": "96ff1cb3-f4da-411f-fb3a-ee6c902daf87"
      },
      "execution_count": 39,
      "outputs": [
        {
          "output_type": "stream",
          "name": "stdout",
          "text": [
            "Enter your salary: 45000\n",
            "your bonus is :-  4500.0\n"
          ]
        }
      ]
    },
    {
      "cell_type": "code",
      "source": [
        "#shopping discount"
      ],
      "metadata": {
        "id": "3E76YKFfdrAH"
      },
      "execution_count": 40,
      "outputs": []
    },
    {
      "cell_type": "code",
      "source": [
        "amount = float(input(\"Enter purchase amount : \"))\n",
        "\n",
        "if amount > 5000:\n",
        "  discount = amount * 0.2\n",
        "elif amount >= 1000:\n",
        "  discount = amount * 0.1\n",
        "else:\n",
        "  discount = 0\n",
        "\n",
        "final_price = amount - discount\n",
        "\n",
        "print(\"your final price after discount is\", final_price)"
      ],
      "metadata": {
        "colab": {
          "base_uri": "https://localhost:8080/"
        },
        "id": "WEatwudtdzda",
        "outputId": "fdf5d0e5-04ed-4461-98c9-7c28403db905"
      },
      "execution_count": 41,
      "outputs": [
        {
          "output_type": "stream",
          "name": "stdout",
          "text": [
            "Enter purchase amount : 6000\n",
            "your final price after discount is 4800.0\n"
          ]
        }
      ]
    },
    {
      "cell_type": "code",
      "source": [
        "#check weekday"
      ],
      "metadata": {
        "id": "YWs5z_H9eSbK"
      },
      "execution_count": 42,
      "outputs": []
    },
    {
      "cell_type": "code",
      "source": [
        "day = input(\"Enter a day:-\").lower()\n",
        "\n",
        "if day in ['saturday', 'sunday']:\n",
        "  print(\"weekend\")\n",
        "else:\n",
        "  print(\"weekday\")"
      ],
      "metadata": {
        "colab": {
          "base_uri": "https://localhost:8080/"
        },
        "id": "3Gu5lX6WeYLx",
        "outputId": "a6d79ea4-28bb-458c-ee1f-dd3a5162b2d2"
      },
      "execution_count": 44,
      "outputs": [
        {
          "output_type": "stream",
          "name": "stdout",
          "text": [
            "Enter a day:-monday\n",
            "weekday\n"
          ]
        }
      ]
    },
    {
      "cell_type": "code",
      "source": [
        "# three number in ascending"
      ],
      "metadata": {
        "id": "oXdoKTDjecHu"
      },
      "execution_count": 45,
      "outputs": []
    },
    {
      "cell_type": "code",
      "source": [
        "a = int(input(\"Enter first number: \"))\n",
        "b = int(input(\"Enter second number: \"))\n",
        "c = int(input(\"Enter third number: \"))\n",
        "\n",
        "number = [a, b, c]\n",
        "\n",
        "number.sort()\n",
        "\n",
        "print(\"number in ascending order\", number)"
      ],
      "metadata": {
        "colab": {
          "base_uri": "https://localhost:8080/"
        },
        "id": "GybQjFj4eyqF",
        "outputId": "2e2e9308-4e47-4394-a279-4e0cdc5551ed"
      },
      "execution_count": 46,
      "outputs": [
        {
          "output_type": "stream",
          "name": "stdout",
          "text": [
            "Enter first number: 8\n",
            "Enter second number: 6\n",
            "Enter third number: 2\n",
            "number in ascending order [2, 6, 8]\n"
          ]
        }
      ]
    },
    {
      "cell_type": "code",
      "source": [
        "#ticket fare"
      ],
      "metadata": {
        "id": "ITxTl4wAe8go"
      },
      "execution_count": 47,
      "outputs": []
    },
    {
      "cell_type": "code",
      "source": [
        "age = int(input(\"Enter your age: \"))\n",
        "\n",
        "full_fare = 500\n",
        "\n",
        "if age < 5:\n",
        "  fare = 0\n",
        "elif 5 <= age <= 18:\n",
        "  fare = full_fare * 0.5\n",
        "elif age > 60:\n",
        "  fare = full_fare * 0.7\n",
        "else:\n",
        "  fare = full_fare\n",
        "\n",
        "print(\"your ticket fare is :-\", fare)"
      ],
      "metadata": {
        "colab": {
          "base_uri": "https://localhost:8080/"
        },
        "id": "eNIvbGMbfC_t",
        "outputId": "d7dea77d-5b41-4117-ae85-81c605e883ce"
      },
      "execution_count": 51,
      "outputs": [
        {
          "output_type": "stream",
          "name": "stdout",
          "text": [
            "Enter your age: 5\n",
            "your ticket fare is :- 250.0\n"
          ]
        }
      ]
    },
    {
      "cell_type": "code",
      "source": [],
      "metadata": {
        "id": "bya_miCkfh0_"
      },
      "execution_count": null,
      "outputs": []
    }
  ]
}